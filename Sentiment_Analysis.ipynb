{
  "nbformat": 4,
  "nbformat_minor": 0,
  "metadata": {
    "colab": {
      "name": "Sentiment_Analysis.ipynb",
      "provenance": [],
      "authorship_tag": "ABX9TyNs2dxmq3Q6ImfF8MyMFYcX",
      "include_colab_link": true
    },
    "kernelspec": {
      "name": "python3",
      "display_name": "Python 3"
    },
    "language_info": {
      "name": "python"
    }
  },
  "cells": [
    {
      "cell_type": "markdown",
      "metadata": {
        "id": "view-in-github",
        "colab_type": "text"
      },
      "source": [
        "<a href=\"https://colab.research.google.com/github/zsowen/Project_3/blob/main/Sentiment_Analysis.ipynb\" target=\"_parent\"><img src=\"https://colab.research.google.com/assets/colab-badge.svg\" alt=\"Open In Colab\"/></a>"
      ]
    },
    {
      "cell_type": "code",
      "metadata": {
        "colab": {
          "base_uri": "https://localhost:8080/"
        },
        "id": "vbOQ0t7PdVyv",
        "outputId": "0a599227-dc1e-4144-feb9-e7d3d8d02ac9"
      },
      "source": [
        "pip install vaderSentiment"
      ],
      "execution_count": 1,
      "outputs": [
        {
          "output_type": "stream",
          "name": "stdout",
          "text": [
            "Requirement already satisfied: vaderSentiment in /usr/local/lib/python3.7/dist-packages (3.3.2)\n",
            "Requirement already satisfied: requests in /usr/local/lib/python3.7/dist-packages (from vaderSentiment) (2.23.0)\n",
            "Requirement already satisfied: urllib3!=1.25.0,!=1.25.1,<1.26,>=1.21.1 in /usr/local/lib/python3.7/dist-packages (from requests->vaderSentiment) (1.24.3)\n",
            "Requirement already satisfied: certifi>=2017.4.17 in /usr/local/lib/python3.7/dist-packages (from requests->vaderSentiment) (2021.5.30)\n",
            "Requirement already satisfied: idna<3,>=2.5 in /usr/local/lib/python3.7/dist-packages (from requests->vaderSentiment) (2.10)\n",
            "Requirement already satisfied: chardet<4,>=3.0.2 in /usr/local/lib/python3.7/dist-packages (from requests->vaderSentiment) (3.0.4)\n"
          ]
        }
      ]
    },
    {
      "cell_type": "code",
      "metadata": {
        "id": "W7LmLnufdbVe"
      },
      "source": [
        "# Import the libraries\n",
        "import pandas as pd\n",
        "import numpy as np\n",
        "from textblob import TextBlob\n",
        "import re\n",
        "import nltk\n",
        "from vaderSentiment.vaderSentiment import SentimentIntensityAnalyzer"
      ],
      "execution_count": 2,
      "outputs": []
    },
    {
      "cell_type": "code",
      "metadata": {
        "colab": {
          "resources": {
            "http://localhost:8080/nbextensions/google.colab/files.js": {
              "data": "Ly8gQ29weXJpZ2h0IDIwMTcgR29vZ2xlIExMQwovLwovLyBMaWNlbnNlZCB1bmRlciB0aGUgQXBhY2hlIExpY2Vuc2UsIFZlcnNpb24gMi4wICh0aGUgIkxpY2Vuc2UiKTsKLy8geW91IG1heSBub3QgdXNlIHRoaXMgZmlsZSBleGNlcHQgaW4gY29tcGxpYW5jZSB3aXRoIHRoZSBMaWNlbnNlLgovLyBZb3UgbWF5IG9idGFpbiBhIGNvcHkgb2YgdGhlIExpY2Vuc2UgYXQKLy8KLy8gICAgICBodHRwOi8vd3d3LmFwYWNoZS5vcmcvbGljZW5zZXMvTElDRU5TRS0yLjAKLy8KLy8gVW5sZXNzIHJlcXVpcmVkIGJ5IGFwcGxpY2FibGUgbGF3IG9yIGFncmVlZCB0byBpbiB3cml0aW5nLCBzb2Z0d2FyZQovLyBkaXN0cmlidXRlZCB1bmRlciB0aGUgTGljZW5zZSBpcyBkaXN0cmlidXRlZCBvbiBhbiAiQVMgSVMiIEJBU0lTLAovLyBXSVRIT1VUIFdBUlJBTlRJRVMgT1IgQ09ORElUSU9OUyBPRiBBTlkgS0lORCwgZWl0aGVyIGV4cHJlc3Mgb3IgaW1wbGllZC4KLy8gU2VlIHRoZSBMaWNlbnNlIGZvciB0aGUgc3BlY2lmaWMgbGFuZ3VhZ2UgZ292ZXJuaW5nIHBlcm1pc3Npb25zIGFuZAovLyBsaW1pdGF0aW9ucyB1bmRlciB0aGUgTGljZW5zZS4KCi8qKgogKiBAZmlsZW92ZXJ2aWV3IEhlbHBlcnMgZm9yIGdvb2dsZS5jb2xhYiBQeXRob24gbW9kdWxlLgogKi8KKGZ1bmN0aW9uKHNjb3BlKSB7CmZ1bmN0aW9uIHNwYW4odGV4dCwgc3R5bGVBdHRyaWJ1dGVzID0ge30pIHsKICBjb25zdCBlbGVtZW50ID0gZG9jdW1lbnQuY3JlYXRlRWxlbWVudCgnc3BhbicpOwogIGVsZW1lbnQudGV4dENvbnRlbnQgPSB0ZXh0OwogIGZvciAoY29uc3Qga2V5IG9mIE9iamVjdC5rZXlzKHN0eWxlQXR0cmlidXRlcykpIHsKICAgIGVsZW1lbnQuc3R5bGVba2V5XSA9IHN0eWxlQXR0cmlidXRlc1trZXldOwogIH0KICByZXR1cm4gZWxlbWVudDsKfQoKLy8gTWF4IG51bWJlciBvZiBieXRlcyB3aGljaCB3aWxsIGJlIHVwbG9hZGVkIGF0IGEgdGltZS4KY29uc3QgTUFYX1BBWUxPQURfU0laRSA9IDEwMCAqIDEwMjQ7CgpmdW5jdGlvbiBfdXBsb2FkRmlsZXMoaW5wdXRJZCwgb3V0cHV0SWQpIHsKICBjb25zdCBzdGVwcyA9IHVwbG9hZEZpbGVzU3RlcChpbnB1dElkLCBvdXRwdXRJZCk7CiAgY29uc3Qgb3V0cHV0RWxlbWVudCA9IGRvY3VtZW50LmdldEVsZW1lbnRCeUlkKG91dHB1dElkKTsKICAvLyBDYWNoZSBzdGVwcyBvbiB0aGUgb3V0cHV0RWxlbWVudCB0byBtYWtlIGl0IGF2YWlsYWJsZSBmb3IgdGhlIG5leHQgY2FsbAogIC8vIHRvIHVwbG9hZEZpbGVzQ29udGludWUgZnJvbSBQeXRob24uCiAgb3V0cHV0RWxlbWVudC5zdGVwcyA9IHN0ZXBzOwoKICByZXR1cm4gX3VwbG9hZEZpbGVzQ29udGludWUob3V0cHV0SWQpOwp9CgovLyBUaGlzIGlzIHJvdWdobHkgYW4gYXN5bmMgZ2VuZXJhdG9yIChub3Qgc3VwcG9ydGVkIGluIHRoZSBicm93c2VyIHlldCksCi8vIHdoZXJlIHRoZXJlIGFyZSBtdWx0aXBsZSBhc3luY2hyb25vdXMgc3RlcHMgYW5kIHRoZSBQeXRob24gc2lkZSBpcyBnb2luZwovLyB0byBwb2xsIGZvciBjb21wbGV0aW9uIG9mIGVhY2ggc3RlcC4KLy8gVGhpcyB1c2VzIGEgUHJvbWlzZSB0byBibG9jayB0aGUgcHl0aG9uIHNpZGUgb24gY29tcGxldGlvbiBvZiBlYWNoIHN0ZXAsCi8vIHRoZW4gcGFzc2VzIHRoZSByZXN1bHQgb2YgdGhlIHByZXZpb3VzIHN0ZXAgYXMgdGhlIGlucHV0IHRvIHRoZSBuZXh0IHN0ZXAuCmZ1bmN0aW9uIF91cGxvYWRGaWxlc0NvbnRpbnVlKG91dHB1dElkKSB7CiAgY29uc3Qgb3V0cHV0RWxlbWVudCA9IGRvY3VtZW50LmdldEVsZW1lbnRCeUlkKG91dHB1dElkKTsKICBjb25zdCBzdGVwcyA9IG91dHB1dEVsZW1lbnQuc3RlcHM7CgogIGNvbnN0IG5leHQgPSBzdGVwcy5uZXh0KG91dHB1dEVsZW1lbnQubGFzdFByb21pc2VWYWx1ZSk7CiAgcmV0dXJuIFByb21pc2UucmVzb2x2ZShuZXh0LnZhbHVlLnByb21pc2UpLnRoZW4oKHZhbHVlKSA9PiB7CiAgICAvLyBDYWNoZSB0aGUgbGFzdCBwcm9taXNlIHZhbHVlIHRvIG1ha2UgaXQgYXZhaWxhYmxlIHRvIHRoZSBuZXh0CiAgICAvLyBzdGVwIG9mIHRoZSBnZW5lcmF0b3IuCiAgICBvdXRwdXRFbGVtZW50Lmxhc3RQcm9taXNlVmFsdWUgPSB2YWx1ZTsKICAgIHJldHVybiBuZXh0LnZhbHVlLnJlc3BvbnNlOwogIH0pOwp9CgovKioKICogR2VuZXJhdG9yIGZ1bmN0aW9uIHdoaWNoIGlzIGNhbGxlZCBiZXR3ZWVuIGVhY2ggYXN5bmMgc3RlcCBvZiB0aGUgdXBsb2FkCiAqIHByb2Nlc3MuCiAqIEBwYXJhbSB7c3RyaW5nfSBpbnB1dElkIEVsZW1lbnQgSUQgb2YgdGhlIGlucHV0IGZpbGUgcGlja2VyIGVsZW1lbnQuCiAqIEBwYXJhbSB7c3RyaW5nfSBvdXRwdXRJZCBFbGVtZW50IElEIG9mIHRoZSBvdXRwdXQgZGlzcGxheS4KICogQHJldHVybiB7IUl0ZXJhYmxlPCFPYmplY3Q+fSBJdGVyYWJsZSBvZiBuZXh0IHN0ZXBzLgogKi8KZnVuY3Rpb24qIHVwbG9hZEZpbGVzU3RlcChpbnB1dElkLCBvdXRwdXRJZCkgewogIGNvbnN0IGlucHV0RWxlbWVudCA9IGRvY3VtZW50LmdldEVsZW1lbnRCeUlkKGlucHV0SWQpOwogIGlucHV0RWxlbWVudC5kaXNhYmxlZCA9IGZhbHNlOwoKICBjb25zdCBvdXRwdXRFbGVtZW50ID0gZG9jdW1lbnQuZ2V0RWxlbWVudEJ5SWQob3V0cHV0SWQpOwogIG91dHB1dEVsZW1lbnQuaW5uZXJIVE1MID0gJyc7CgogIGNvbnN0IHBpY2tlZFByb21pc2UgPSBuZXcgUHJvbWlzZSgocmVzb2x2ZSkgPT4gewogICAgaW5wdXRFbGVtZW50LmFkZEV2ZW50TGlzdGVuZXIoJ2NoYW5nZScsIChlKSA9PiB7CiAgICAgIHJlc29sdmUoZS50YXJnZXQuZmlsZXMpOwogICAgfSk7CiAgfSk7CgogIGNvbnN0IGNhbmNlbCA9IGRvY3VtZW50LmNyZWF0ZUVsZW1lbnQoJ2J1dHRvbicpOwogIGlucHV0RWxlbWVudC5wYXJlbnRFbGVtZW50LmFwcGVuZENoaWxkKGNhbmNlbCk7CiAgY2FuY2VsLnRleHRDb250ZW50ID0gJ0NhbmNlbCB1cGxvYWQnOwogIGNvbnN0IGNhbmNlbFByb21pc2UgPSBuZXcgUHJvbWlzZSgocmVzb2x2ZSkgPT4gewogICAgY2FuY2VsLm9uY2xpY2sgPSAoKSA9PiB7CiAgICAgIHJlc29sdmUobnVsbCk7CiAgICB9OwogIH0pOwoKICAvLyBXYWl0IGZvciB0aGUgdXNlciB0byBwaWNrIHRoZSBmaWxlcy4KICBjb25zdCBmaWxlcyA9IHlpZWxkIHsKICAgIHByb21pc2U6IFByb21pc2UucmFjZShbcGlja2VkUHJvbWlzZSwgY2FuY2VsUHJvbWlzZV0pLAogICAgcmVzcG9uc2U6IHsKICAgICAgYWN0aW9uOiAnc3RhcnRpbmcnLAogICAgfQogIH07CgogIGNhbmNlbC5yZW1vdmUoKTsKCiAgLy8gRGlzYWJsZSB0aGUgaW5wdXQgZWxlbWVudCBzaW5jZSBmdXJ0aGVyIHBpY2tzIGFyZSBub3QgYWxsb3dlZC4KICBpbnB1dEVsZW1lbnQuZGlzYWJsZWQgPSB0cnVlOwoKICBpZiAoIWZpbGVzKSB7CiAgICByZXR1cm4gewogICAgICByZXNwb25zZTogewogICAgICAgIGFjdGlvbjogJ2NvbXBsZXRlJywKICAgICAgfQogICAgfTsKICB9CgogIGZvciAoY29uc3QgZmlsZSBvZiBmaWxlcykgewogICAgY29uc3QgbGkgPSBkb2N1bWVudC5jcmVhdGVFbGVtZW50KCdsaScpOwogICAgbGkuYXBwZW5kKHNwYW4oZmlsZS5uYW1lLCB7Zm9udFdlaWdodDogJ2JvbGQnfSkpOwogICAgbGkuYXBwZW5kKHNwYW4oCiAgICAgICAgYCgke2ZpbGUudHlwZSB8fCAnbi9hJ30pIC0gJHtmaWxlLnNpemV9IGJ5dGVzLCBgICsKICAgICAgICBgbGFzdCBtb2RpZmllZDogJHsKICAgICAgICAgICAgZmlsZS5sYXN0TW9kaWZpZWREYXRlID8gZmlsZS5sYXN0TW9kaWZpZWREYXRlLnRvTG9jYWxlRGF0ZVN0cmluZygpIDoKICAgICAgICAgICAgICAgICAgICAgICAgICAgICAgICAgICAgJ24vYSd9IC0gYCkpOwogICAgY29uc3QgcGVyY2VudCA9IHNwYW4oJzAlIGRvbmUnKTsKICAgIGxpLmFwcGVuZENoaWxkKHBlcmNlbnQpOwoKICAgIG91dHB1dEVsZW1lbnQuYXBwZW5kQ2hpbGQobGkpOwoKICAgIGNvbnN0IGZpbGVEYXRhUHJvbWlzZSA9IG5ldyBQcm9taXNlKChyZXNvbHZlKSA9PiB7CiAgICAgIGNvbnN0IHJlYWRlciA9IG5ldyBGaWxlUmVhZGVyKCk7CiAgICAgIHJlYWRlci5vbmxvYWQgPSAoZSkgPT4gewogICAgICAgIHJlc29sdmUoZS50YXJnZXQucmVzdWx0KTsKICAgICAgfTsKICAgICAgcmVhZGVyLnJlYWRBc0FycmF5QnVmZmVyKGZpbGUpOwogICAgfSk7CiAgICAvLyBXYWl0IGZvciB0aGUgZGF0YSB0byBiZSByZWFkeS4KICAgIGxldCBmaWxlRGF0YSA9IHlpZWxkIHsKICAgICAgcHJvbWlzZTogZmlsZURhdGFQcm9taXNlLAogICAgICByZXNwb25zZTogewogICAgICAgIGFjdGlvbjogJ2NvbnRpbnVlJywKICAgICAgfQogICAgfTsKCiAgICAvLyBVc2UgYSBjaHVua2VkIHNlbmRpbmcgdG8gYXZvaWQgbWVzc2FnZSBzaXplIGxpbWl0cy4gU2VlIGIvNjIxMTU2NjAuCiAgICBsZXQgcG9zaXRpb24gPSAwOwogICAgZG8gewogICAgICBjb25zdCBsZW5ndGggPSBNYXRoLm1pbihmaWxlRGF0YS5ieXRlTGVuZ3RoIC0gcG9zaXRpb24sIE1BWF9QQVlMT0FEX1NJWkUpOwogICAgICBjb25zdCBjaHVuayA9IG5ldyBVaW50OEFycmF5KGZpbGVEYXRhLCBwb3NpdGlvbiwgbGVuZ3RoKTsKICAgICAgcG9zaXRpb24gKz0gbGVuZ3RoOwoKICAgICAgY29uc3QgYmFzZTY0ID0gYnRvYShTdHJpbmcuZnJvbUNoYXJDb2RlLmFwcGx5KG51bGwsIGNodW5rKSk7CiAgICAgIHlpZWxkIHsKICAgICAgICByZXNwb25zZTogewogICAgICAgICAgYWN0aW9uOiAnYXBwZW5kJywKICAgICAgICAgIGZpbGU6IGZpbGUubmFtZSwKICAgICAgICAgIGRhdGE6IGJhc2U2NCwKICAgICAgICB9LAogICAgICB9OwoKICAgICAgbGV0IHBlcmNlbnREb25lID0gZmlsZURhdGEuYnl0ZUxlbmd0aCA9PT0gMCA/CiAgICAgICAgICAxMDAgOgogICAgICAgICAgTWF0aC5yb3VuZCgocG9zaXRpb24gLyBmaWxlRGF0YS5ieXRlTGVuZ3RoKSAqIDEwMCk7CiAgICAgIHBlcmNlbnQudGV4dENvbnRlbnQgPSBgJHtwZXJjZW50RG9uZX0lIGRvbmVgOwoKICAgIH0gd2hpbGUgKHBvc2l0aW9uIDwgZmlsZURhdGEuYnl0ZUxlbmd0aCk7CiAgfQoKICAvLyBBbGwgZG9uZS4KICB5aWVsZCB7CiAgICByZXNwb25zZTogewogICAgICBhY3Rpb246ICdjb21wbGV0ZScsCiAgICB9CiAgfTsKfQoKc2NvcGUuZ29vZ2xlID0gc2NvcGUuZ29vZ2xlIHx8IHt9OwpzY29wZS5nb29nbGUuY29sYWIgPSBzY29wZS5nb29nbGUuY29sYWIgfHwge307CnNjb3BlLmdvb2dsZS5jb2xhYi5fZmlsZXMgPSB7CiAgX3VwbG9hZEZpbGVzLAogIF91cGxvYWRGaWxlc0NvbnRpbnVlLAp9Owp9KShzZWxmKTsK",
              "ok": true,
              "headers": [
                [
                  "content-type",
                  "application/javascript"
                ]
              ],
              "status": 200,
              "status_text": ""
            }
          },
          "base_uri": "https://localhost:8080/",
          "height": 106
        },
        "id": "uskQZtPGdjJd",
        "outputId": "0e50db68-d3f4-41e7-c038-5e396362507a"
      },
      "source": [
        "# load data\n",
        "from google.colab import files\n",
        "files.upload()"
      ],
      "execution_count": 3,
      "outputs": [
        {
          "output_type": "display_data",
          "data": {
            "text/html": [
              "\n",
              "     <input type=\"file\" id=\"files-a0d100fc-c38c-41a1-92e7-2f36f2acb9d1\" name=\"files[]\" multiple disabled\n",
              "        style=\"border:none\" />\n",
              "     <output id=\"result-a0d100fc-c38c-41a1-92e7-2f36f2acb9d1\">\n",
              "      Upload widget is only available when the cell has been executed in the\n",
              "      current browser session. Please rerun this cell to enable.\n",
              "      </output>\n",
              "      <script src=\"/nbextensions/google.colab/files.js\"></script> "
            ],
            "text/plain": [
              "<IPython.core.display.HTML object>"
            ]
          },
          "metadata": {}
        },
        {
          "output_type": "stream",
          "name": "stdout",
          "text": [
            "Saving needsPrices.xlsx to needsPrices (1).xlsx\n",
            "Saving withPrices.xlsx to withPrices (1).xlsx\n"
          ]
        }
      ]
    },
    {
      "cell_type": "code",
      "metadata": {
        "colab": {
          "resources": {
            "http://localhost:8080/nbextensions/google.colab/files.js": {
              "data": "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",
              "ok": true,
              "headers": [
                [
                  "content-type",
                  "application/javascript"
                ]
              ],
              "status": 200,
              "status_text": ""
            }
          },
          "base_uri": "https://localhost:8080/",
          "height": 72
        },
        "id": "T3ZR5s06b3f6",
        "outputId": "c383342f-baab-48f9-e20e-e7b1632a6854"
      },
      "source": [
        "# load data\n",
        "from google.colab import files\n",
        "files.upload()"
      ],
      "execution_count": 38,
      "outputs": [
        {
          "output_type": "display_data",
          "data": {
            "text/html": [
              "\n",
              "     <input type=\"file\" id=\"files-5c397044-255f-4e17-bf07-b35333d40838\" name=\"files[]\" multiple disabled\n",
              "        style=\"border:none\" />\n",
              "     <output id=\"result-5c397044-255f-4e17-bf07-b35333d40838\">\n",
              "      Upload widget is only available when the cell has been executed in the\n",
              "      current browser session. Please rerun this cell to enable.\n",
              "      </output>\n",
              "      <script src=\"/nbextensions/google.colab/files.js\"></script> "
            ],
            "text/plain": [
              "<IPython.core.display.HTML object>"
            ]
          },
          "metadata": {}
        },
        {
          "output_type": "stream",
          "name": "stdout",
          "text": [
            "Saving withPricesAndChange.xlsx to withPricesAndChange.xlsx\n"
          ]
        }
      ]
    },
    {
      "cell_type": "code",
      "metadata": {
        "id": "Ydqggo0hdngP"
      },
      "source": [
        "# store the data as a variable\n",
        "needsPrices_df= pd.read_excel('needsPrices.xlsx')\n",
        "# \n",
        "withPrices_df= pd.read_excel('withPrices.xlsx')\n"
      ],
      "execution_count": 17,
      "outputs": []
    },
    {
      "cell_type": "code",
      "metadata": {
        "id": "jHiiOJHtc8oJ"
      },
      "source": [
        "#\n",
        "Prices_with_changes = pd.read_excel('withPricesAndChange.xlsx')"
      ],
      "execution_count": 39,
      "outputs": []
    },
    {
      "cell_type": "code",
      "metadata": {
        "colab": {
          "base_uri": "https://localhost:8080/",
          "height": 142
        },
        "id": "I7a8S_nHe4_r",
        "outputId": "4d63b764-dc1b-4242-9c2c-ce352ba66fb6"
      },
      "source": [
        "# peak at data\n",
        "Prices_with_changes.head(3)"
      ],
      "execution_count": 78,
      "outputs": [
        {
          "output_type": "execute_result",
          "data": {
            "text/html": [
              "<div>\n",
              "<style scoped>\n",
              "    .dataframe tbody tr th:only-of-type {\n",
              "        vertical-align: middle;\n",
              "    }\n",
              "\n",
              "    .dataframe tbody tr th {\n",
              "        vertical-align: top;\n",
              "    }\n",
              "\n",
              "    .dataframe thead th {\n",
              "        text-align: right;\n",
              "    }\n",
              "</style>\n",
              "<table border=\"1\" class=\"dataframe\">\n",
              "  <thead>\n",
              "    <tr style=\"text-align: right;\">\n",
              "      <th></th>\n",
              "      <th>title</th>\n",
              "      <th>Symbol</th>\n",
              "      <th>Security</th>\n",
              "      <th>Year</th>\n",
              "      <th>Month</th>\n",
              "      <th>Day</th>\n",
              "      <th>Date</th>\n",
              "      <th>Key</th>\n",
              "      <th>Opening</th>\n",
              "      <th>Closing</th>\n",
              "      <th>StockChg</th>\n",
              "      <th>WeekNo</th>\n",
              "    </tr>\n",
              "  </thead>\n",
              "  <tbody>\n",
              "    <tr>\n",
              "      <th>0</th>\n",
              "      <td>Agilent to Buy Multiplicom for ‚Ç¨68M in Cash</td>\n",
              "      <td>A</td>\n",
              "      <td>Agilent Technologies</td>\n",
              "      <td>2016</td>\n",
              "      <td>12</td>\n",
              "      <td>20</td>\n",
              "      <td>2016-12-20</td>\n",
              "      <td>2016-12-20A</td>\n",
              "      <td>45.750000</td>\n",
              "      <td>46.209999</td>\n",
              "      <td>Positive</td>\n",
              "      <td>52</td>\n",
              "    </tr>\n",
              "    <tr>\n",
              "      <th>1</th>\n",
              "      <td>Pressure Biosciences CEO On Its Beaten Down St...</td>\n",
              "      <td>A</td>\n",
              "      <td>Agilent Technologies</td>\n",
              "      <td>2016</td>\n",
              "      <td>12</td>\n",
              "      <td>6</td>\n",
              "      <td>2016-12-06</td>\n",
              "      <td>2016-12-06A</td>\n",
              "      <td>44.580002</td>\n",
              "      <td>44.840000</td>\n",
              "      <td>Positive</td>\n",
              "      <td>50</td>\n",
              "    </tr>\n",
              "    <tr>\n",
              "      <th>2</th>\n",
              "      <td>The Market In 5 Minutes: DryShips, Trump And T...</td>\n",
              "      <td>A</td>\n",
              "      <td>Agilent Technologies</td>\n",
              "      <td>2016</td>\n",
              "      <td>11</td>\n",
              "      <td>16</td>\n",
              "      <td>2016-11-16</td>\n",
              "      <td>2016-11-16A</td>\n",
              "      <td>46.299999</td>\n",
              "      <td>46.180000</td>\n",
              "      <td>Negative</td>\n",
              "      <td>47</td>\n",
              "    </tr>\n",
              "  </tbody>\n",
              "</table>\n",
              "</div>"
            ],
            "text/plain": [
              "                                               title Symbol  ...  StockChg  WeekNo\n",
              "0      Agilent to Buy Multiplicom for ‚Ç¨68M in Cash      A  ...  Positive      52\n",
              "1  Pressure Biosciences CEO On Its Beaten Down St...      A  ...  Positive      50\n",
              "2  The Market In 5 Minutes: DryShips, Trump And T...      A  ...  Negative      47\n",
              "\n",
              "[3 rows x 12 columns]"
            ]
          },
          "metadata": {},
          "execution_count": 78
        }
      ]
    },
    {
      "cell_type": "code",
      "metadata": {
        "colab": {
          "base_uri": "https://localhost:8080/",
          "height": 359
        },
        "id": "-djXbSwqe79N",
        "outputId": "063d8e88-db25-4f00-8528-4c09245b8ee8"
      },
      "source": [
        "Prices_with_changes.head(10)"
      ],
      "execution_count": 79,
      "outputs": [
        {
          "output_type": "execute_result",
          "data": {
            "text/html": [
              "<div>\n",
              "<style scoped>\n",
              "    .dataframe tbody tr th:only-of-type {\n",
              "        vertical-align: middle;\n",
              "    }\n",
              "\n",
              "    .dataframe tbody tr th {\n",
              "        vertical-align: top;\n",
              "    }\n",
              "\n",
              "    .dataframe thead th {\n",
              "        text-align: right;\n",
              "    }\n",
              "</style>\n",
              "<table border=\"1\" class=\"dataframe\">\n",
              "  <thead>\n",
              "    <tr style=\"text-align: right;\">\n",
              "      <th></th>\n",
              "      <th>title</th>\n",
              "      <th>Symbol</th>\n",
              "      <th>Security</th>\n",
              "      <th>Year</th>\n",
              "      <th>Month</th>\n",
              "      <th>Day</th>\n",
              "      <th>Date</th>\n",
              "      <th>Key</th>\n",
              "      <th>Opening</th>\n",
              "      <th>Closing</th>\n",
              "      <th>StockChg</th>\n",
              "      <th>WeekNo</th>\n",
              "    </tr>\n",
              "  </thead>\n",
              "  <tbody>\n",
              "    <tr>\n",
              "      <th>0</th>\n",
              "      <td>Agilent to Buy Multiplicom for ‚Ç¨68M in Cash</td>\n",
              "      <td>A</td>\n",
              "      <td>Agilent Technologies</td>\n",
              "      <td>2016</td>\n",
              "      <td>12</td>\n",
              "      <td>20</td>\n",
              "      <td>2016-12-20</td>\n",
              "      <td>2016-12-20A</td>\n",
              "      <td>45.750000</td>\n",
              "      <td>46.209999</td>\n",
              "      <td>Positive</td>\n",
              "      <td>52</td>\n",
              "    </tr>\n",
              "    <tr>\n",
              "      <th>1</th>\n",
              "      <td>Pressure Biosciences CEO On Its Beaten Down St...</td>\n",
              "      <td>A</td>\n",
              "      <td>Agilent Technologies</td>\n",
              "      <td>2016</td>\n",
              "      <td>12</td>\n",
              "      <td>6</td>\n",
              "      <td>2016-12-06</td>\n",
              "      <td>2016-12-06A</td>\n",
              "      <td>44.580002</td>\n",
              "      <td>44.840000</td>\n",
              "      <td>Positive</td>\n",
              "      <td>50</td>\n",
              "    </tr>\n",
              "    <tr>\n",
              "      <th>2</th>\n",
              "      <td>The Market In 5 Minutes: DryShips, Trump And T...</td>\n",
              "      <td>A</td>\n",
              "      <td>Agilent Technologies</td>\n",
              "      <td>2016</td>\n",
              "      <td>11</td>\n",
              "      <td>16</td>\n",
              "      <td>2016-11-16</td>\n",
              "      <td>2016-11-16A</td>\n",
              "      <td>46.299999</td>\n",
              "      <td>46.180000</td>\n",
              "      <td>Negative</td>\n",
              "      <td>47</td>\n",
              "    </tr>\n",
              "    <tr>\n",
              "      <th>3</th>\n",
              "      <td>A Peek Into The Markets: U.S. Stock Futures De...</td>\n",
              "      <td>A</td>\n",
              "      <td>Agilent Technologies</td>\n",
              "      <td>2016</td>\n",
              "      <td>11</td>\n",
              "      <td>16</td>\n",
              "      <td>2016-11-16</td>\n",
              "      <td>2016-11-16A</td>\n",
              "      <td>46.299999</td>\n",
              "      <td>46.180000</td>\n",
              "      <td>Negative</td>\n",
              "      <td>47</td>\n",
              "    </tr>\n",
              "    <tr>\n",
              "      <th>4</th>\n",
              "      <td>Keep an Eye on These 8 Stocks for November 16,...</td>\n",
              "      <td>A</td>\n",
              "      <td>Agilent Technologies</td>\n",
              "      <td>2016</td>\n",
              "      <td>11</td>\n",
              "      <td>16</td>\n",
              "      <td>2016-11-16</td>\n",
              "      <td>2016-11-16A</td>\n",
              "      <td>46.299999</td>\n",
              "      <td>46.180000</td>\n",
              "      <td>Negative</td>\n",
              "      <td>47</td>\n",
              "    </tr>\n",
              "    <tr>\n",
              "      <th>5</th>\n",
              "      <td>Agilent Technologies Sees FY17 Rev. $4.35B-$4....</td>\n",
              "      <td>A</td>\n",
              "      <td>Agilent Technologies</td>\n",
              "      <td>2016</td>\n",
              "      <td>11</td>\n",
              "      <td>15</td>\n",
              "      <td>2016-11-15</td>\n",
              "      <td>2016-11-15A</td>\n",
              "      <td>45.330002</td>\n",
              "      <td>45.400002</td>\n",
              "      <td>Positive</td>\n",
              "      <td>47</td>\n",
              "    </tr>\n",
              "    <tr>\n",
              "      <th>6</th>\n",
              "      <td>Agilent Technologies Reports Q4 EPS $0.59 vs. ...</td>\n",
              "      <td>A</td>\n",
              "      <td>Agilent Technologies</td>\n",
              "      <td>2016</td>\n",
              "      <td>11</td>\n",
              "      <td>15</td>\n",
              "      <td>2016-11-15</td>\n",
              "      <td>2016-11-15A</td>\n",
              "      <td>45.330002</td>\n",
              "      <td>45.400002</td>\n",
              "      <td>Positive</td>\n",
              "      <td>47</td>\n",
              "    </tr>\n",
              "    <tr>\n",
              "      <th>7</th>\n",
              "      <td>8 Stocks You Should Be Watching Today</td>\n",
              "      <td>A</td>\n",
              "      <td>Agilent Technologies</td>\n",
              "      <td>2016</td>\n",
              "      <td>11</td>\n",
              "      <td>15</td>\n",
              "      <td>2016-11-15</td>\n",
              "      <td>2016-11-15A</td>\n",
              "      <td>45.330002</td>\n",
              "      <td>45.400002</td>\n",
              "      <td>Positive</td>\n",
              "      <td>47</td>\n",
              "    </tr>\n",
              "    <tr>\n",
              "      <th>8</th>\n",
              "      <td>Earnings Scheduled For November 15, 2016</td>\n",
              "      <td>A</td>\n",
              "      <td>Agilent Technologies</td>\n",
              "      <td>2016</td>\n",
              "      <td>11</td>\n",
              "      <td>15</td>\n",
              "      <td>2016-11-15</td>\n",
              "      <td>2016-11-15A</td>\n",
              "      <td>45.330002</td>\n",
              "      <td>45.400002</td>\n",
              "      <td>Positive</td>\n",
              "      <td>47</td>\n",
              "    </tr>\n",
              "    <tr>\n",
              "      <th>9</th>\n",
              "      <td>Leerink Swann Assumes Agilent Technologies, In...</td>\n",
              "      <td>A</td>\n",
              "      <td>Agilent Technologies</td>\n",
              "      <td>2016</td>\n",
              "      <td>11</td>\n",
              "      <td>10</td>\n",
              "      <td>2016-11-10</td>\n",
              "      <td>2016-11-10A</td>\n",
              "      <td>46.599998</td>\n",
              "      <td>47.029999</td>\n",
              "      <td>Positive</td>\n",
              "      <td>46</td>\n",
              "    </tr>\n",
              "  </tbody>\n",
              "</table>\n",
              "</div>"
            ],
            "text/plain": [
              "                                               title Symbol  ...  StockChg  WeekNo\n",
              "0      Agilent to Buy Multiplicom for ‚Ç¨68M in Cash      A  ...  Positive      52\n",
              "1  Pressure Biosciences CEO On Its Beaten Down St...      A  ...  Positive      50\n",
              "2  The Market In 5 Minutes: DryShips, Trump And T...      A  ...  Negative      47\n",
              "3  A Peek Into The Markets: U.S. Stock Futures De...      A  ...  Negative      47\n",
              "4  Keep an Eye on These 8 Stocks for November 16,...      A  ...  Negative      47\n",
              "5  Agilent Technologies Sees FY17 Rev. $4.35B-$4....      A  ...  Positive      47\n",
              "6  Agilent Technologies Reports Q4 EPS $0.59 vs. ...      A  ...  Positive      47\n",
              "7              8 Stocks You Should Be Watching Today      A  ...  Positive      47\n",
              "8           Earnings Scheduled For November 15, 2016      A  ...  Positive      47\n",
              "9  Leerink Swann Assumes Agilent Technologies, In...      A  ...  Positive      46\n",
              "\n",
              "[10 rows x 12 columns]"
            ]
          },
          "metadata": {},
          "execution_count": 79
        }
      ]
    },
    {
      "cell_type": "code",
      "metadata": {
        "colab": {
          "base_uri": "https://localhost:8080/",
          "height": 419
        },
        "id": "xvQjULg8S-Zi",
        "outputId": "a1a797b2-9a01-4913-e4a4-2803f17a3a43"
      },
      "source": [
        "A_ticker= Prices_with_changes.loc[Prices_with_changes['Symbol'] == 'A']\n",
        "A_ticker"
      ],
      "execution_count": 80,
      "outputs": [
        {
          "output_type": "execute_result",
          "data": {
            "text/html": [
              "<div>\n",
              "<style scoped>\n",
              "    .dataframe tbody tr th:only-of-type {\n",
              "        vertical-align: middle;\n",
              "    }\n",
              "\n",
              "    .dataframe tbody tr th {\n",
              "        vertical-align: top;\n",
              "    }\n",
              "\n",
              "    .dataframe thead th {\n",
              "        text-align: right;\n",
              "    }\n",
              "</style>\n",
              "<table border=\"1\" class=\"dataframe\">\n",
              "  <thead>\n",
              "    <tr style=\"text-align: right;\">\n",
              "      <th></th>\n",
              "      <th>title</th>\n",
              "      <th>Symbol</th>\n",
              "      <th>Security</th>\n",
              "      <th>Year</th>\n",
              "      <th>Month</th>\n",
              "      <th>Day</th>\n",
              "      <th>Date</th>\n",
              "      <th>Key</th>\n",
              "      <th>Opening</th>\n",
              "      <th>Closing</th>\n",
              "      <th>StockChg</th>\n",
              "      <th>WeekNo</th>\n",
              "    </tr>\n",
              "  </thead>\n",
              "  <tbody>\n",
              "    <tr>\n",
              "      <th>0</th>\n",
              "      <td>Agilent to Buy Multiplicom for ‚Ç¨68M in Cash</td>\n",
              "      <td>A</td>\n",
              "      <td>Agilent Technologies</td>\n",
              "      <td>2016</td>\n",
              "      <td>12</td>\n",
              "      <td>20</td>\n",
              "      <td>2016-12-20</td>\n",
              "      <td>2016-12-20A</td>\n",
              "      <td>45.750000</td>\n",
              "      <td>46.209999</td>\n",
              "      <td>Positive</td>\n",
              "      <td>52</td>\n",
              "    </tr>\n",
              "    <tr>\n",
              "      <th>1</th>\n",
              "      <td>Pressure Biosciences CEO On Its Beaten Down St...</td>\n",
              "      <td>A</td>\n",
              "      <td>Agilent Technologies</td>\n",
              "      <td>2016</td>\n",
              "      <td>12</td>\n",
              "      <td>6</td>\n",
              "      <td>2016-12-06</td>\n",
              "      <td>2016-12-06A</td>\n",
              "      <td>44.580002</td>\n",
              "      <td>44.840000</td>\n",
              "      <td>Positive</td>\n",
              "      <td>50</td>\n",
              "    </tr>\n",
              "    <tr>\n",
              "      <th>2</th>\n",
              "      <td>The Market In 5 Minutes: DryShips, Trump And T...</td>\n",
              "      <td>A</td>\n",
              "      <td>Agilent Technologies</td>\n",
              "      <td>2016</td>\n",
              "      <td>11</td>\n",
              "      <td>16</td>\n",
              "      <td>2016-11-16</td>\n",
              "      <td>2016-11-16A</td>\n",
              "      <td>46.299999</td>\n",
              "      <td>46.180000</td>\n",
              "      <td>Negative</td>\n",
              "      <td>47</td>\n",
              "    </tr>\n",
              "    <tr>\n",
              "      <th>3</th>\n",
              "      <td>A Peek Into The Markets: U.S. Stock Futures De...</td>\n",
              "      <td>A</td>\n",
              "      <td>Agilent Technologies</td>\n",
              "      <td>2016</td>\n",
              "      <td>11</td>\n",
              "      <td>16</td>\n",
              "      <td>2016-11-16</td>\n",
              "      <td>2016-11-16A</td>\n",
              "      <td>46.299999</td>\n",
              "      <td>46.180000</td>\n",
              "      <td>Negative</td>\n",
              "      <td>47</td>\n",
              "    </tr>\n",
              "    <tr>\n",
              "      <th>4</th>\n",
              "      <td>Keep an Eye on These 8 Stocks for November 16,...</td>\n",
              "      <td>A</td>\n",
              "      <td>Agilent Technologies</td>\n",
              "      <td>2016</td>\n",
              "      <td>11</td>\n",
              "      <td>16</td>\n",
              "      <td>2016-11-16</td>\n",
              "      <td>2016-11-16A</td>\n",
              "      <td>46.299999</td>\n",
              "      <td>46.180000</td>\n",
              "      <td>Negative</td>\n",
              "      <td>47</td>\n",
              "    </tr>\n",
              "    <tr>\n",
              "      <th>...</th>\n",
              "      <td>...</td>\n",
              "      <td>...</td>\n",
              "      <td>...</td>\n",
              "      <td>...</td>\n",
              "      <td>...</td>\n",
              "      <td>...</td>\n",
              "      <td>...</td>\n",
              "      <td>...</td>\n",
              "      <td>...</td>\n",
              "      <td>...</td>\n",
              "      <td>...</td>\n",
              "      <td>...</td>\n",
              "    </tr>\n",
              "    <tr>\n",
              "      <th>573</th>\n",
              "      <td>The Health Care Reform Bill: Welcome To The Bi...</td>\n",
              "      <td>A</td>\n",
              "      <td>Agilent Technologies</td>\n",
              "      <td>2010</td>\n",
              "      <td>3</td>\n",
              "      <td>11</td>\n",
              "      <td>2010-03-11</td>\n",
              "      <td>2010-03-11A</td>\n",
              "      <td>33.379999</td>\n",
              "      <td>33.580001</td>\n",
              "      <td>Positive</td>\n",
              "      <td>11</td>\n",
              "    </tr>\n",
              "    <tr>\n",
              "      <th>574</th>\n",
              "      <td>BRKR Buys VARI‚Äôs Assets; Deal To Be Accretiv...</td>\n",
              "      <td>A</td>\n",
              "      <td>Agilent Technologies</td>\n",
              "      <td>2010</td>\n",
              "      <td>3</td>\n",
              "      <td>10</td>\n",
              "      <td>2010-03-10</td>\n",
              "      <td>2010-03-10A</td>\n",
              "      <td>33.199999</td>\n",
              "      <td>33.660000</td>\n",
              "      <td>Positive</td>\n",
              "      <td>11</td>\n",
              "    </tr>\n",
              "    <tr>\n",
              "      <th>575</th>\n",
              "      <td>The Google Buzz Guide for the Enterprise (with...</td>\n",
              "      <td>A</td>\n",
              "      <td>Agilent Technologies</td>\n",
              "      <td>2010</td>\n",
              "      <td>2</td>\n",
              "      <td>17</td>\n",
              "      <td>2010-02-17</td>\n",
              "      <td>2010-02-17A</td>\n",
              "      <td>30.359999</td>\n",
              "      <td>30.630001</td>\n",
              "      <td>Positive</td>\n",
              "      <td>8</td>\n",
              "    </tr>\n",
              "    <tr>\n",
              "      <th>576</th>\n",
              "      <td>Agilent Technologies (A) Reports 23% Profit Rise</td>\n",
              "      <td>A</td>\n",
              "      <td>Agilent Technologies</td>\n",
              "      <td>2010</td>\n",
              "      <td>2</td>\n",
              "      <td>12</td>\n",
              "      <td>2010-02-12</td>\n",
              "      <td>2010-02-12A</td>\n",
              "      <td>30.650000</td>\n",
              "      <td>29.980000</td>\n",
              "      <td>Negative</td>\n",
              "      <td>7</td>\n",
              "    </tr>\n",
              "    <tr>\n",
              "      <th>577</th>\n",
              "      <td>Benzinga‚Äôs Earnings Roundup (IR, NWE, HCP, A)</td>\n",
              "      <td>A</td>\n",
              "      <td>Agilent Technologies</td>\n",
              "      <td>2010</td>\n",
              "      <td>2</td>\n",
              "      <td>12</td>\n",
              "      <td>2010-02-12</td>\n",
              "      <td>2010-02-12A</td>\n",
              "      <td>30.650000</td>\n",
              "      <td>29.980000</td>\n",
              "      <td>Negative</td>\n",
              "      <td>7</td>\n",
              "    </tr>\n",
              "  </tbody>\n",
              "</table>\n",
              "<p>578 rows × 12 columns</p>\n",
              "</div>"
            ],
            "text/plain": [
              "                                                 title Symbol  ...  StockChg  WeekNo\n",
              "0        Agilent to Buy Multiplicom for ‚Ç¨68M in Cash      A  ...  Positive      52\n",
              "1    Pressure Biosciences CEO On Its Beaten Down St...      A  ...  Positive      50\n",
              "2    The Market In 5 Minutes: DryShips, Trump And T...      A  ...  Negative      47\n",
              "3    A Peek Into The Markets: U.S. Stock Futures De...      A  ...  Negative      47\n",
              "4    Keep an Eye on These 8 Stocks for November 16,...      A  ...  Negative      47\n",
              "..                                                 ...    ...  ...       ...     ...\n",
              "573  The Health Care Reform Bill: Welcome To The Bi...      A  ...  Positive      11\n",
              "574  BRKR Buys VARI‚Äôs Assets; Deal To Be Accretiv...      A  ...  Positive      11\n",
              "575  The Google Buzz Guide for the Enterprise (with...      A  ...  Positive       8\n",
              "576   Agilent Technologies (A) Reports 23% Profit Rise      A  ...  Negative       7\n",
              "577    Benzinga‚Äôs Earnings Roundup (IR, NWE, HCP, A)      A  ...  Negative       7\n",
              "\n",
              "[578 rows x 12 columns]"
            ]
          },
          "metadata": {},
          "execution_count": 80
        }
      ]
    },
    {
      "cell_type": "code",
      "metadata": {
        "id": "FWRvF2YRUDeB"
      },
      "source": [
        "A_ticker= A_ticker.iloc[::-1]"
      ],
      "execution_count": 81,
      "outputs": []
    },
    {
      "cell_type": "code",
      "metadata": {
        "colab": {
          "base_uri": "https://localhost:8080/",
          "height": 419
        },
        "id": "rc3dzSPKUfGH",
        "outputId": "83ebecb4-fd40-4bfd-f7c0-9e970d8405b0"
      },
      "source": [
        "A_ticker= A_ticker.reset_index()\n",
        "A_ticker"
      ],
      "execution_count": 82,
      "outputs": [
        {
          "output_type": "execute_result",
          "data": {
            "text/html": [
              "<div>\n",
              "<style scoped>\n",
              "    .dataframe tbody tr th:only-of-type {\n",
              "        vertical-align: middle;\n",
              "    }\n",
              "\n",
              "    .dataframe tbody tr th {\n",
              "        vertical-align: top;\n",
              "    }\n",
              "\n",
              "    .dataframe thead th {\n",
              "        text-align: right;\n",
              "    }\n",
              "</style>\n",
              "<table border=\"1\" class=\"dataframe\">\n",
              "  <thead>\n",
              "    <tr style=\"text-align: right;\">\n",
              "      <th></th>\n",
              "      <th>index</th>\n",
              "      <th>title</th>\n",
              "      <th>Symbol</th>\n",
              "      <th>Security</th>\n",
              "      <th>Year</th>\n",
              "      <th>Month</th>\n",
              "      <th>Day</th>\n",
              "      <th>Date</th>\n",
              "      <th>Key</th>\n",
              "      <th>Opening</th>\n",
              "      <th>Closing</th>\n",
              "      <th>StockChg</th>\n",
              "      <th>WeekNo</th>\n",
              "    </tr>\n",
              "  </thead>\n",
              "  <tbody>\n",
              "    <tr>\n",
              "      <th>0</th>\n",
              "      <td>577</td>\n",
              "      <td>Benzinga‚Äôs Earnings Roundup (IR, NWE, HCP, A)</td>\n",
              "      <td>A</td>\n",
              "      <td>Agilent Technologies</td>\n",
              "      <td>2010</td>\n",
              "      <td>2</td>\n",
              "      <td>12</td>\n",
              "      <td>2010-02-12</td>\n",
              "      <td>2010-02-12A</td>\n",
              "      <td>30.650000</td>\n",
              "      <td>29.980000</td>\n",
              "      <td>Negative</td>\n",
              "      <td>7</td>\n",
              "    </tr>\n",
              "    <tr>\n",
              "      <th>1</th>\n",
              "      <td>576</td>\n",
              "      <td>Agilent Technologies (A) Reports 23% Profit Rise</td>\n",
              "      <td>A</td>\n",
              "      <td>Agilent Technologies</td>\n",
              "      <td>2010</td>\n",
              "      <td>2</td>\n",
              "      <td>12</td>\n",
              "      <td>2010-02-12</td>\n",
              "      <td>2010-02-12A</td>\n",
              "      <td>30.650000</td>\n",
              "      <td>29.980000</td>\n",
              "      <td>Negative</td>\n",
              "      <td>7</td>\n",
              "    </tr>\n",
              "    <tr>\n",
              "      <th>2</th>\n",
              "      <td>575</td>\n",
              "      <td>The Google Buzz Guide for the Enterprise (with...</td>\n",
              "      <td>A</td>\n",
              "      <td>Agilent Technologies</td>\n",
              "      <td>2010</td>\n",
              "      <td>2</td>\n",
              "      <td>17</td>\n",
              "      <td>2010-02-17</td>\n",
              "      <td>2010-02-17A</td>\n",
              "      <td>30.359999</td>\n",
              "      <td>30.630001</td>\n",
              "      <td>Positive</td>\n",
              "      <td>8</td>\n",
              "    </tr>\n",
              "    <tr>\n",
              "      <th>3</th>\n",
              "      <td>574</td>\n",
              "      <td>BRKR Buys VARI‚Äôs Assets; Deal To Be Accretiv...</td>\n",
              "      <td>A</td>\n",
              "      <td>Agilent Technologies</td>\n",
              "      <td>2010</td>\n",
              "      <td>3</td>\n",
              "      <td>10</td>\n",
              "      <td>2010-03-10</td>\n",
              "      <td>2010-03-10A</td>\n",
              "      <td>33.199999</td>\n",
              "      <td>33.660000</td>\n",
              "      <td>Positive</td>\n",
              "      <td>11</td>\n",
              "    </tr>\n",
              "    <tr>\n",
              "      <th>4</th>\n",
              "      <td>573</td>\n",
              "      <td>The Health Care Reform Bill: Welcome To The Bi...</td>\n",
              "      <td>A</td>\n",
              "      <td>Agilent Technologies</td>\n",
              "      <td>2010</td>\n",
              "      <td>3</td>\n",
              "      <td>11</td>\n",
              "      <td>2010-03-11</td>\n",
              "      <td>2010-03-11A</td>\n",
              "      <td>33.379999</td>\n",
              "      <td>33.580001</td>\n",
              "      <td>Positive</td>\n",
              "      <td>11</td>\n",
              "    </tr>\n",
              "    <tr>\n",
              "      <th>...</th>\n",
              "      <td>...</td>\n",
              "      <td>...</td>\n",
              "      <td>...</td>\n",
              "      <td>...</td>\n",
              "      <td>...</td>\n",
              "      <td>...</td>\n",
              "      <td>...</td>\n",
              "      <td>...</td>\n",
              "      <td>...</td>\n",
              "      <td>...</td>\n",
              "      <td>...</td>\n",
              "      <td>...</td>\n",
              "      <td>...</td>\n",
              "    </tr>\n",
              "    <tr>\n",
              "      <th>573</th>\n",
              "      <td>4</td>\n",
              "      <td>Keep an Eye on These 8 Stocks for November 16,...</td>\n",
              "      <td>A</td>\n",
              "      <td>Agilent Technologies</td>\n",
              "      <td>2016</td>\n",
              "      <td>11</td>\n",
              "      <td>16</td>\n",
              "      <td>2016-11-16</td>\n",
              "      <td>2016-11-16A</td>\n",
              "      <td>46.299999</td>\n",
              "      <td>46.180000</td>\n",
              "      <td>Negative</td>\n",
              "      <td>47</td>\n",
              "    </tr>\n",
              "    <tr>\n",
              "      <th>574</th>\n",
              "      <td>3</td>\n",
              "      <td>A Peek Into The Markets: U.S. Stock Futures De...</td>\n",
              "      <td>A</td>\n",
              "      <td>Agilent Technologies</td>\n",
              "      <td>2016</td>\n",
              "      <td>11</td>\n",
              "      <td>16</td>\n",
              "      <td>2016-11-16</td>\n",
              "      <td>2016-11-16A</td>\n",
              "      <td>46.299999</td>\n",
              "      <td>46.180000</td>\n",
              "      <td>Negative</td>\n",
              "      <td>47</td>\n",
              "    </tr>\n",
              "    <tr>\n",
              "      <th>575</th>\n",
              "      <td>2</td>\n",
              "      <td>The Market In 5 Minutes: DryShips, Trump And T...</td>\n",
              "      <td>A</td>\n",
              "      <td>Agilent Technologies</td>\n",
              "      <td>2016</td>\n",
              "      <td>11</td>\n",
              "      <td>16</td>\n",
              "      <td>2016-11-16</td>\n",
              "      <td>2016-11-16A</td>\n",
              "      <td>46.299999</td>\n",
              "      <td>46.180000</td>\n",
              "      <td>Negative</td>\n",
              "      <td>47</td>\n",
              "    </tr>\n",
              "    <tr>\n",
              "      <th>576</th>\n",
              "      <td>1</td>\n",
              "      <td>Pressure Biosciences CEO On Its Beaten Down St...</td>\n",
              "      <td>A</td>\n",
              "      <td>Agilent Technologies</td>\n",
              "      <td>2016</td>\n",
              "      <td>12</td>\n",
              "      <td>6</td>\n",
              "      <td>2016-12-06</td>\n",
              "      <td>2016-12-06A</td>\n",
              "      <td>44.580002</td>\n",
              "      <td>44.840000</td>\n",
              "      <td>Positive</td>\n",
              "      <td>50</td>\n",
              "    </tr>\n",
              "    <tr>\n",
              "      <th>577</th>\n",
              "      <td>0</td>\n",
              "      <td>Agilent to Buy Multiplicom for ‚Ç¨68M in Cash</td>\n",
              "      <td>A</td>\n",
              "      <td>Agilent Technologies</td>\n",
              "      <td>2016</td>\n",
              "      <td>12</td>\n",
              "      <td>20</td>\n",
              "      <td>2016-12-20</td>\n",
              "      <td>2016-12-20A</td>\n",
              "      <td>45.750000</td>\n",
              "      <td>46.209999</td>\n",
              "      <td>Positive</td>\n",
              "      <td>52</td>\n",
              "    </tr>\n",
              "  </tbody>\n",
              "</table>\n",
              "<p>578 rows × 13 columns</p>\n",
              "</div>"
            ],
            "text/plain": [
              "     index                                              title  ...  StockChg WeekNo\n",
              "0      577    Benzinga‚Äôs Earnings Roundup (IR, NWE, HCP, A)  ...  Negative      7\n",
              "1      576   Agilent Technologies (A) Reports 23% Profit Rise  ...  Negative      7\n",
              "2      575  The Google Buzz Guide for the Enterprise (with...  ...  Positive      8\n",
              "3      574  BRKR Buys VARI‚Äôs Assets; Deal To Be Accretiv...  ...  Positive     11\n",
              "4      573  The Health Care Reform Bill: Welcome To The Bi...  ...  Positive     11\n",
              "..     ...                                                ...  ...       ...    ...\n",
              "573      4  Keep an Eye on These 8 Stocks for November 16,...  ...  Negative     47\n",
              "574      3  A Peek Into The Markets: U.S. Stock Futures De...  ...  Negative     47\n",
              "575      2  The Market In 5 Minutes: DryShips, Trump And T...  ...  Negative     47\n",
              "576      1  Pressure Biosciences CEO On Its Beaten Down St...  ...  Positive     50\n",
              "577      0      Agilent to Buy Multiplicom for ‚Ç¨68M in Cash  ...  Positive     52\n",
              "\n",
              "[578 rows x 13 columns]"
            ]
          },
          "metadata": {},
          "execution_count": 82
        }
      ]
    },
    {
      "cell_type": "code",
      "metadata": {
        "id": "NrPp0pUKdbqt"
      },
      "source": [
        ""
      ],
      "execution_count": 82,
      "outputs": []
    },
    {
      "cell_type": "code",
      "metadata": {
        "id": "0W8YZ4HZbZDs"
      },
      "source": [
        ""
      ],
      "execution_count": 82,
      "outputs": []
    },
    {
      "cell_type": "code",
      "metadata": {
        "id": "GvT8TEn2Wgcc"
      },
      "source": [
        "# Create a function to get the subjectivity\n",
        "def getSubjectivity(text):\n",
        "  return TextBlob(text).sentiment.subjectivity"
      ],
      "execution_count": 83,
      "outputs": []
    },
    {
      "cell_type": "code",
      "metadata": {
        "id": "3H7F2_JhWgqN"
      },
      "source": [
        "# Create a function to get the polarity\n",
        "def getPolarity(text):\n",
        "  return  TextBlob(text).sentiment.polarity"
      ],
      "execution_count": 84,
      "outputs": []
    },
    {
      "cell_type": "code",
      "metadata": {
        "id": "cJLyFKzQWguI"
      },
      "source": [
        "# Create two new columns 'Subjectivity' & 'Polarity'\n",
        "A_ticker['Subjectivity'] =A_ticker['title'].apply(getSubjectivity)\n",
        "A_ticker['Polarity'] =A_ticker['title'].apply(getPolarity)"
      ],
      "execution_count": 85,
      "outputs": []
    },
    {
      "cell_type": "code",
      "metadata": {
        "id": "a5z19jIIWgxi"
      },
      "source": [
        "#Create a function to get the sentiment scores (using Sentiment Intensity Analyzer)\n",
        "def getSIA(text):\n",
        "  sia = SentimentIntensityAnalyzer()\n",
        "  sentiment = sia.polarity_scores(text)\n",
        "  return sentiment\n"
      ],
      "execution_count": 86,
      "outputs": []
    },
    {
      "cell_type": "code",
      "metadata": {
        "id": "uvJxS-BsXM_q"
      },
      "source": [
        "# The compound score is a metric that calculates the sum of all the lexicon\n",
        "#  ratings which have been normalized between -1(most extreme negative)\n",
        "#  and +1 (most extreme positive)."
      ],
      "execution_count": 87,
      "outputs": []
    },
    {
      "cell_type": "code",
      "metadata": {
        "id": "r3KMAC8JW7OZ"
      },
      "source": [
        "#Get the sentiment scores for each day\n",
        "compound = []\n",
        "neg = []\n",
        "neu = []\n",
        "pos = []\n",
        "SIA = 0\n",
        "for i in range(0, len(A_ticker['title'])):\n",
        "  SIA = getSIA(A_ticker['title'][i])\n",
        "  compound.append(SIA['compound'])\n",
        "  neg.append(SIA['neg'])\n",
        "  neu.append(SIA['neu'])\n",
        "  pos.append(SIA['pos'])"
      ],
      "execution_count": 88,
      "outputs": []
    },
    {
      "cell_type": "code",
      "metadata": {
        "id": "_4gNftVQW7RF"
      },
      "source": [
        "#Store the sentiment scores in the data frame\n",
        "A_ticker['Compound'] =compound\n",
        "A_ticker['Negative'] =neg\n",
        "A_ticker['Neutral'] =neu\n",
        "A_ticker['Positive'] = pos"
      ],
      "execution_count": 89,
      "outputs": []
    },
    {
      "cell_type": "code",
      "metadata": {
        "colab": {
          "base_uri": "https://localhost:8080/"
        },
        "id": "IoDxpzznW7Vr",
        "outputId": "bf44c271-0372-496c-a83b-243213bb7b86"
      },
      "source": [
        "A_ticker= A_ticker.round(4)\n",
        "A_ticker.loc[(A_ticker.StockChg == 'Positive'), 'StockChg'] = 1\n",
        "A_ticker.loc[(A_ticker.StockChg == 'Negative'), 'StockChg'] = 0\n",
        "A_ticker[\"StockChg\"] = pd.to_numeric(A_ticker[\"StockChg\"])\n",
        "A_ticker.dtypes"
      ],
      "execution_count": 97,
      "outputs": [
        {
          "output_type": "execute_result",
          "data": {
            "text/plain": [
              "index                    int64\n",
              "title                   object\n",
              "Symbol                  object\n",
              "Security                object\n",
              "Year                     int64\n",
              "Month                    int64\n",
              "Day                      int64\n",
              "Date            datetime64[ns]\n",
              "Key                     object\n",
              "Opening                float64\n",
              "Closing                float64\n",
              "StockChg                 int64\n",
              "WeekNo                   int64\n",
              "Subjectivity           float64\n",
              "Polarity               float64\n",
              "Compound               float64\n",
              "Negative               float64\n",
              "Neutral                float64\n",
              "Positive               float64\n",
              "dtype: object"
            ]
          },
          "metadata": {},
          "execution_count": 97
        }
      ]
    },
    {
      "cell_type": "code",
      "metadata": {
        "colab": {
          "base_uri": "https://localhost:8080/",
          "height": 419
        },
        "id": "daGXgNNCrRa5",
        "outputId": "bc4f4ec7-a1d2-4ace-90a9-c935740ef37e"
      },
      "source": [
        "A_ticker"
      ],
      "execution_count": 98,
      "outputs": [
        {
          "output_type": "execute_result",
          "data": {
            "text/html": [
              "<div>\n",
              "<style scoped>\n",
              "    .dataframe tbody tr th:only-of-type {\n",
              "        vertical-align: middle;\n",
              "    }\n",
              "\n",
              "    .dataframe tbody tr th {\n",
              "        vertical-align: top;\n",
              "    }\n",
              "\n",
              "    .dataframe thead th {\n",
              "        text-align: right;\n",
              "    }\n",
              "</style>\n",
              "<table border=\"1\" class=\"dataframe\">\n",
              "  <thead>\n",
              "    <tr style=\"text-align: right;\">\n",
              "      <th></th>\n",
              "      <th>index</th>\n",
              "      <th>title</th>\n",
              "      <th>Symbol</th>\n",
              "      <th>Security</th>\n",
              "      <th>Year</th>\n",
              "      <th>Month</th>\n",
              "      <th>Day</th>\n",
              "      <th>Date</th>\n",
              "      <th>Key</th>\n",
              "      <th>Opening</th>\n",
              "      <th>Closing</th>\n",
              "      <th>StockChg</th>\n",
              "      <th>WeekNo</th>\n",
              "      <th>Subjectivity</th>\n",
              "      <th>Polarity</th>\n",
              "      <th>Compound</th>\n",
              "      <th>Negative</th>\n",
              "      <th>Neutral</th>\n",
              "      <th>Positive</th>\n",
              "    </tr>\n",
              "  </thead>\n",
              "  <tbody>\n",
              "    <tr>\n",
              "      <th>0</th>\n",
              "      <td>577</td>\n",
              "      <td>Benzinga‚Äôs Earnings Roundup (IR, NWE, HCP, A)</td>\n",
              "      <td>A</td>\n",
              "      <td>Agilent Technologies</td>\n",
              "      <td>2010</td>\n",
              "      <td>2</td>\n",
              "      <td>12</td>\n",
              "      <td>2010-02-12</td>\n",
              "      <td>2010-02-12A</td>\n",
              "      <td>30.65</td>\n",
              "      <td>29.98</td>\n",
              "      <td>0</td>\n",
              "      <td>7</td>\n",
              "      <td>0.0000</td>\n",
              "      <td>0.0000</td>\n",
              "      <td>0.0000</td>\n",
              "      <td>0.000</td>\n",
              "      <td>1.000</td>\n",
              "      <td>0.000</td>\n",
              "    </tr>\n",
              "    <tr>\n",
              "      <th>1</th>\n",
              "      <td>576</td>\n",
              "      <td>Agilent Technologies (A) Reports 23% Profit Rise</td>\n",
              "      <td>A</td>\n",
              "      <td>Agilent Technologies</td>\n",
              "      <td>2010</td>\n",
              "      <td>2</td>\n",
              "      <td>12</td>\n",
              "      <td>2010-02-12</td>\n",
              "      <td>2010-02-12A</td>\n",
              "      <td>30.65</td>\n",
              "      <td>29.98</td>\n",
              "      <td>0</td>\n",
              "      <td>7</td>\n",
              "      <td>0.0000</td>\n",
              "      <td>0.0000</td>\n",
              "      <td>0.4404</td>\n",
              "      <td>0.000</td>\n",
              "      <td>0.674</td>\n",
              "      <td>0.326</td>\n",
              "    </tr>\n",
              "    <tr>\n",
              "      <th>2</th>\n",
              "      <td>575</td>\n",
              "      <td>The Google Buzz Guide for the Enterprise (with...</td>\n",
              "      <td>A</td>\n",
              "      <td>Agilent Technologies</td>\n",
              "      <td>2010</td>\n",
              "      <td>2</td>\n",
              "      <td>17</td>\n",
              "      <td>2010-02-17</td>\n",
              "      <td>2010-02-17A</td>\n",
              "      <td>30.36</td>\n",
              "      <td>30.63</td>\n",
              "      <td>1</td>\n",
              "      <td>8</td>\n",
              "      <td>0.0000</td>\n",
              "      <td>0.0000</td>\n",
              "      <td>0.0000</td>\n",
              "      <td>0.000</td>\n",
              "      <td>1.000</td>\n",
              "      <td>0.000</td>\n",
              "    </tr>\n",
              "    <tr>\n",
              "      <th>3</th>\n",
              "      <td>574</td>\n",
              "      <td>BRKR Buys VARI‚Äôs Assets; Deal To Be Accretiv...</td>\n",
              "      <td>A</td>\n",
              "      <td>Agilent Technologies</td>\n",
              "      <td>2010</td>\n",
              "      <td>3</td>\n",
              "      <td>10</td>\n",
              "      <td>2010-03-10</td>\n",
              "      <td>2010-03-10A</td>\n",
              "      <td>33.20</td>\n",
              "      <td>33.66</td>\n",
              "      <td>1</td>\n",
              "      <td>11</td>\n",
              "      <td>0.0000</td>\n",
              "      <td>0.0000</td>\n",
              "      <td>0.1779</td>\n",
              "      <td>0.000</td>\n",
              "      <td>0.841</td>\n",
              "      <td>0.159</td>\n",
              "    </tr>\n",
              "    <tr>\n",
              "      <th>4</th>\n",
              "      <td>573</td>\n",
              "      <td>The Health Care Reform Bill: Welcome To The Bi...</td>\n",
              "      <td>A</td>\n",
              "      <td>Agilent Technologies</td>\n",
              "      <td>2010</td>\n",
              "      <td>3</td>\n",
              "      <td>11</td>\n",
              "      <td>2010-03-11</td>\n",
              "      <td>2010-03-11A</td>\n",
              "      <td>33.38</td>\n",
              "      <td>33.58</td>\n",
              "      <td>1</td>\n",
              "      <td>11</td>\n",
              "      <td>0.9000</td>\n",
              "      <td>0.8000</td>\n",
              "      <td>0.8176</td>\n",
              "      <td>0.000</td>\n",
              "      <td>0.564</td>\n",
              "      <td>0.436</td>\n",
              "    </tr>\n",
              "    <tr>\n",
              "      <th>...</th>\n",
              "      <td>...</td>\n",
              "      <td>...</td>\n",
              "      <td>...</td>\n",
              "      <td>...</td>\n",
              "      <td>...</td>\n",
              "      <td>...</td>\n",
              "      <td>...</td>\n",
              "      <td>...</td>\n",
              "      <td>...</td>\n",
              "      <td>...</td>\n",
              "      <td>...</td>\n",
              "      <td>...</td>\n",
              "      <td>...</td>\n",
              "      <td>...</td>\n",
              "      <td>...</td>\n",
              "      <td>...</td>\n",
              "      <td>...</td>\n",
              "      <td>...</td>\n",
              "      <td>...</td>\n",
              "    </tr>\n",
              "    <tr>\n",
              "      <th>573</th>\n",
              "      <td>4</td>\n",
              "      <td>Keep an Eye on These 8 Stocks for November 16,...</td>\n",
              "      <td>A</td>\n",
              "      <td>Agilent Technologies</td>\n",
              "      <td>2016</td>\n",
              "      <td>11</td>\n",
              "      <td>16</td>\n",
              "      <td>2016-11-16</td>\n",
              "      <td>2016-11-16A</td>\n",
              "      <td>46.30</td>\n",
              "      <td>46.18</td>\n",
              "      <td>0</td>\n",
              "      <td>47</td>\n",
              "      <td>0.0000</td>\n",
              "      <td>0.0000</td>\n",
              "      <td>0.0000</td>\n",
              "      <td>0.000</td>\n",
              "      <td>1.000</td>\n",
              "      <td>0.000</td>\n",
              "    </tr>\n",
              "    <tr>\n",
              "      <th>574</th>\n",
              "      <td>3</td>\n",
              "      <td>A Peek Into The Markets: U.S. Stock Futures De...</td>\n",
              "      <td>A</td>\n",
              "      <td>Agilent Technologies</td>\n",
              "      <td>2016</td>\n",
              "      <td>11</td>\n",
              "      <td>16</td>\n",
              "      <td>2016-11-16</td>\n",
              "      <td>2016-11-16A</td>\n",
              "      <td>46.30</td>\n",
              "      <td>46.18</td>\n",
              "      <td>0</td>\n",
              "      <td>47</td>\n",
              "      <td>0.2000</td>\n",
              "      <td>0.2000</td>\n",
              "      <td>0.0000</td>\n",
              "      <td>0.000</td>\n",
              "      <td>1.000</td>\n",
              "      <td>0.000</td>\n",
              "    </tr>\n",
              "    <tr>\n",
              "      <th>575</th>\n",
              "      <td>2</td>\n",
              "      <td>The Market In 5 Minutes: DryShips, Trump And T...</td>\n",
              "      <td>A</td>\n",
              "      <td>Agilent Technologies</td>\n",
              "      <td>2016</td>\n",
              "      <td>11</td>\n",
              "      <td>16</td>\n",
              "      <td>2016-11-16</td>\n",
              "      <td>2016-11-16A</td>\n",
              "      <td>46.30</td>\n",
              "      <td>46.18</td>\n",
              "      <td>0</td>\n",
              "      <td>47</td>\n",
              "      <td>0.0000</td>\n",
              "      <td>0.0000</td>\n",
              "      <td>0.0000</td>\n",
              "      <td>0.000</td>\n",
              "      <td>1.000</td>\n",
              "      <td>0.000</td>\n",
              "    </tr>\n",
              "    <tr>\n",
              "      <th>576</th>\n",
              "      <td>1</td>\n",
              "      <td>Pressure Biosciences CEO On Its Beaten Down St...</td>\n",
              "      <td>A</td>\n",
              "      <td>Agilent Technologies</td>\n",
              "      <td>2016</td>\n",
              "      <td>12</td>\n",
              "      <td>6</td>\n",
              "      <td>2016-12-06</td>\n",
              "      <td>2016-12-06A</td>\n",
              "      <td>44.58</td>\n",
              "      <td>44.84</td>\n",
              "      <td>1</td>\n",
              "      <td>50</td>\n",
              "      <td>0.5963</td>\n",
              "      <td>0.2481</td>\n",
              "      <td>-0.4417</td>\n",
              "      <td>0.199</td>\n",
              "      <td>0.717</td>\n",
              "      <td>0.083</td>\n",
              "    </tr>\n",
              "    <tr>\n",
              "      <th>577</th>\n",
              "      <td>0</td>\n",
              "      <td>Agilent to Buy Multiplicom for ‚Ç¨68M in Cash</td>\n",
              "      <td>A</td>\n",
              "      <td>Agilent Technologies</td>\n",
              "      <td>2016</td>\n",
              "      <td>12</td>\n",
              "      <td>20</td>\n",
              "      <td>2016-12-20</td>\n",
              "      <td>2016-12-20A</td>\n",
              "      <td>45.75</td>\n",
              "      <td>46.21</td>\n",
              "      <td>1</td>\n",
              "      <td>52</td>\n",
              "      <td>0.0000</td>\n",
              "      <td>0.0000</td>\n",
              "      <td>0.0000</td>\n",
              "      <td>0.000</td>\n",
              "      <td>1.000</td>\n",
              "      <td>0.000</td>\n",
              "    </tr>\n",
              "  </tbody>\n",
              "</table>\n",
              "<p>578 rows × 19 columns</p>\n",
              "</div>"
            ],
            "text/plain": [
              "     index  ... Positive\n",
              "0      577  ...    0.000\n",
              "1      576  ...    0.326\n",
              "2      575  ...    0.000\n",
              "3      574  ...    0.159\n",
              "4      573  ...    0.436\n",
              "..     ...  ...      ...\n",
              "573      4  ...    0.000\n",
              "574      3  ...    0.000\n",
              "575      2  ...    0.000\n",
              "576      1  ...    0.083\n",
              "577      0  ...    0.000\n",
              "\n",
              "[578 rows x 19 columns]"
            ]
          },
          "metadata": {},
          "execution_count": 98
        }
      ]
    },
    {
      "cell_type": "code",
      "metadata": {
        "id": "vxltuetdYMxZ"
      },
      "source": [
        "# ZZZ= A_ticker.groupby(['Year', 'WeekNo']).mean()\n",
        "# ZZZ= ZZZ.drop(columns='index')\n",
        "# ZZZ"
      ],
      "execution_count": 73,
      "outputs": []
    },
    {
      "cell_type": "code",
      "metadata": {
        "id": "3qEAWvO_YM0c"
      },
      "source": [
        "#Create the feature data set\n",
        "X = A_ticker[['Opening', 'Closing', 'Subjectivity', 'Polarity', 'Compound', 'Negative', 'Neutral', 'Positive']]\n",
        "X = np.array(X)"
      ],
      "execution_count": 101,
      "outputs": []
    },
    {
      "cell_type": "code",
      "metadata": {
        "id": "1x6yzaJFYM3f"
      },
      "source": [
        "#Create the target data set\n",
        "y = np.array(A_ticker['StockChg'])"
      ],
      "execution_count": 102,
      "outputs": []
    },
    {
      "cell_type": "code",
      "metadata": {
        "id": "Qx1_Ir8ys0P4"
      },
      "source": [
        "#Split the data into 80% training and 20% testing data sets\n",
        "x_train, x_test, y_train, y_test = train_test_split(X, y, test_size=0.2, random_state = 0)"
      ],
      "execution_count": 103,
      "outputs": []
    },
    {
      "cell_type": "code",
      "metadata": {
        "id": "igYln9u5s0TK"
      },
      "source": [
        "from sklearn.discriminant_analysis import LinearDiscriminantAnalysis\n",
        "model = LinearDiscriminantAnalysis().fit(x_train, y_train)"
      ],
      "execution_count": 105,
      "outputs": []
    },
    {
      "cell_type": "code",
      "metadata": {
        "colab": {
          "base_uri": "https://localhost:8080/"
        },
        "id": "qdSA87E8s0WO",
        "outputId": "0c712d46-04d3-40a7-b28f-4d542c804167"
      },
      "source": [
        "#Get the models predictions/classification\n",
        "predictions = model.predict(x_test)\n",
        "predictions"
      ],
      "execution_count": 106,
      "outputs": [
        {
          "output_type": "execute_result",
          "data": {
            "text/plain": [
              "array([1, 0, 0, 0, 1, 0, 0, 0, 1, 1, 0, 0, 1, 0, 0, 0, 1, 1, 1, 0, 1, 0,\n",
              "       0, 0, 0, 1, 1, 1, 0, 0, 0, 0, 1, 1, 1, 1, 1, 0, 1, 0, 1, 0, 0, 1,\n",
              "       1, 1, 1, 0, 0, 0, 1, 1, 0, 0, 1, 0, 0, 1, 1, 1, 0, 1, 0, 0, 1, 1,\n",
              "       1, 1, 0, 0, 1, 1, 0, 1, 1, 0, 0, 0, 0, 0, 1, 1, 1, 0, 0, 0, 0, 1,\n",
              "       1, 1, 0, 1, 1, 0, 1, 0, 0, 0, 0, 0, 1, 0, 1, 0, 1, 0, 0, 0, 1, 0,\n",
              "       0, 0, 0, 0, 1, 1])"
            ]
          },
          "metadata": {},
          "execution_count": 106
        }
      ]
    },
    {
      "cell_type": "code",
      "metadata": {
        "colab": {
          "base_uri": "https://localhost:8080/"
        },
        "id": "9EVUeG9MtbmB",
        "outputId": "6c499936-3009-4a3a-bebc-b9de8012da41"
      },
      "source": [
        "#Show the models metrics\n",
        "from sklearn.metrics import classification_report\n",
        "print( classification_report(y_test, predictions) )"
      ],
      "execution_count": 108,
      "outputs": [
        {
          "output_type": "stream",
          "name": "stdout",
          "text": [
            "              precision    recall  f1-score   support\n",
            "\n",
            "           0       1.00      0.97      0.98        65\n",
            "           1       0.96      1.00      0.98        51\n",
            "\n",
            "    accuracy                           0.98       116\n",
            "   macro avg       0.98      0.98      0.98       116\n",
            "weighted avg       0.98      0.98      0.98       116\n",
            "\n"
          ]
        }
      ]
    },
    {
      "cell_type": "code",
      "metadata": {
        "id": "mYEYC5TStbpX"
      },
      "source": [
        ""
      ],
      "execution_count": null,
      "outputs": []
    },
    {
      "cell_type": "code",
      "metadata": {
        "id": "cCQtBA5AtbtZ"
      },
      "source": [
        ""
      ],
      "execution_count": null,
      "outputs": []
    },
    {
      "cell_type": "code",
      "metadata": {
        "id": "S2trfDEezJr7"
      },
      "source": [
        "withPrices_df['title']= withPrices_df['title'].astype('str')"
      ],
      "execution_count": null,
      "outputs": []
    },
    {
      "cell_type": "code",
      "metadata": {
        "id": "1gi5O71ufAOH"
      },
      "source": [
        "# # Extracting features from text files\n",
        "# from sklearn.feature_extraction.text import CountVectorizer\n",
        "# count_vect = CountVectorizer()\n",
        "# X_train_counts = count_vect.fit_transform(twenty_train.data)\n",
        "# X_train_counts.shape"
      ],
      "execution_count": null,
      "outputs": []
    },
    {
      "cell_type": "code",
      "metadata": {
        "id": "om5H6S74tDZ0"
      },
      "source": [
        "withPrices_df.dtypes"
      ],
      "execution_count": null,
      "outputs": []
    },
    {
      "cell_type": "code",
      "metadata": {
        "id": "hsg7VSwygXVH"
      },
      "source": [
        "withPrices_df['title'].head(6)"
      ],
      "execution_count": null,
      "outputs": []
    },
    {
      "cell_type": "code",
      "metadata": {
        "id": "y_ARXIp6rrNZ"
      },
      "source": [
        "news_vector= withPrices_df['title']\n",
        "news_vector.dtypes"
      ],
      "execution_count": null,
      "outputs": []
    },
    {
      "cell_type": "code",
      "metadata": {
        "id": "DHAAHGZD7pYv"
      },
      "source": [
        "news_vector_arr= news_vector.tolist()\n",
        "news_vector_arr"
      ],
      "execution_count": null,
      "outputs": []
    },
    {
      "cell_type": "code",
      "metadata": {
        "id": "FEnEVl4sAcFc"
      },
      "source": [
        "from sklearn.model_selection import train_test_split\n",
        "X, y = withPrices_df.data, withPrices_df.target\n",
        "X_train, X_test, y_train, y_test = train_test_split(X, y, random_state=37)"
      ],
      "execution_count": null,
      "outputs": []
    },
    {
      "cell_type": "code",
      "metadata": {
        "id": "7GHjB9MAggMY"
      },
      "source": [
        "from sklearn.feature_extraction.text import CountVectorizer\n",
        "count_vect = CountVectorizer()\n",
        "X_train_counts = count_vect.fit_transform(news_vector_arr)   #potentially add .data to end on ['title']\n",
        "X_train_counts.shape"
      ],
      "execution_count": null,
      "outputs": []
    },
    {
      "cell_type": "code",
      "metadata": {
        "id": "ipyieU8To7MW"
      },
      "source": [
        "# from sklearn.model_selection import train_test_split\n"
      ],
      "execution_count": null,
      "outputs": []
    },
    {
      "cell_type": "code",
      "metadata": {
        "id": "thT9FjIs8Kos"
      },
      "source": [
        "# TF-IDF\n",
        "from sklearn.feature_extraction.text import TfidfTransformer\n",
        "tfidf_transformer = TfidfTransformer()\n",
        "X_train_tfidf = tfidf_transformer.fit_transform(X_train_counts)\n",
        "X_train_tfidf.shape"
      ],
      "execution_count": null,
      "outputs": []
    },
    {
      "cell_type": "code",
      "metadata": {
        "id": "9J6jO4vo8WSM"
      },
      "source": [
        "from sklearn.naive_bayes import MultinomialNB\n",
        "clf = MultinomialNB().fit(X_train_tfidf, twenty_train.target)"
      ],
      "execution_count": null,
      "outputs": []
    }
  ]
}