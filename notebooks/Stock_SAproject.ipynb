{
  "nbformat": 4,
  "nbformat_minor": 2,
  "metadata": {
    "colab": {
      "name": "Stock_SAproject.ipynb",
      "provenance": [],
      "authorship_tag": "ABX9TyNz2X30J4cbfdAa2rKq/ikQ",
      "include_colab_link": true
    },
    "kernelspec": {
      "name": "python3",
      "display_name": "Python 3.6.13 64-bit ('PythonAdv': conda)"
    },
    "language_info": {
      "name": "python",
      "version": "3.6.13",
      "mimetype": "text/x-python",
      "codemirror_mode": {
        "name": "ipython",
        "version": 3
      },
      "pygments_lexer": "ipython3",
      "nbconvert_exporter": "python",
      "file_extension": ".py"
    },
    "interpreter": {
      "hash": "19e604361af181d0efed1906379b6d4f58cb276063cefdc694e07c9c982c8c5e"
    }
  },
  "cells": [
    {
      "cell_type": "markdown",
      "source": [
        "<a href=\"https://colab.research.google.com/github/zsowen/Project_3/blob/main/Jake/Stock_SAproject.ipynb\" target=\"_parent\"><img src=\"https://colab.research.google.com/assets/colab-badge.svg\" alt=\"Open In Colab\"/></a>"
      ],
      "metadata": {
        "id": "view-in-github",
        "colab_type": "text"
      }
    },
    {
      "cell_type": "code",
      "execution_count": 2,
      "source": [
        "pip install vaderSentiment"
      ],
      "outputs": [
        {
          "output_type": "stream",
          "name": "stdout",
          "text": [
            "Requirement already satisfied: vaderSentiment in c:\\users\\lmuns\\anaconda3\\envs\\pythonadv\\lib\\site-packages (3.3.2)\n",
            "Requirement already satisfied: requests in c:\\users\\lmuns\\anaconda3\\envs\\pythonadv\\lib\\site-packages (from vaderSentiment) (2.25.1)\n",
            "Requirement already satisfied: idna<3,>=2.5 in c:\\users\\lmuns\\anaconda3\\envs\\pythonadv\\lib\\site-packages (from requests->vaderSentiment) (2.10)\n",
            "Requirement already satisfied: chardet<5,>=3.0.2 in c:\\users\\lmuns\\anaconda3\\envs\\pythonadv\\lib\\site-packages (from requests->vaderSentiment) (3.0.4)\n",
            "Requirement already satisfied: certifi>=2017.4.17 in c:\\users\\lmuns\\anaconda3\\envs\\pythonadv\\lib\\site-packages (from requests->vaderSentiment) (2021.5.30)\n",
            "Requirement already satisfied: urllib3<1.27,>=1.21.1 in c:\\users\\lmuns\\anaconda3\\envs\\pythonadv\\lib\\site-packages (from requests->vaderSentiment) (1.26.6)\n",
            "Note: you may need to restart the kernel to use updated packages.\n"
          ]
        }
      ],
      "metadata": {
        "colab": {
          "base_uri": "https://localhost:8080/"
        },
        "id": "vbOQ0t7PdVyv",
        "outputId": "0696d331-8d27-47a8-d198-eeb4ab1c5ecf"
      }
    },
    {
      "cell_type": "code",
      "execution_count": 3,
      "source": [
        "# Import the libraries\r\n",
        "import pandas as pd\r\n",
        "import numpy as np\r\n",
        "from textblob import TextBlob\r\n",
        "import re\r\n",
        "import nltk\r\n",
        "from vaderSentiment.vaderSentiment import SentimentIntensityAnalyzer"
      ],
      "outputs": [],
      "metadata": {
        "id": "W7LmLnufdbVe"
      }
    },
    {
      "cell_type": "code",
      "execution_count": 4,
      "source": [
        "# load data\r\n",
        "from google.colab import files\r\n",
        "files.upload()"
      ],
      "outputs": [
        {
          "output_type": "error",
          "ename": "ModuleNotFoundError",
          "evalue": "No module named 'google.colab'",
          "traceback": [
            "\u001b[1;31m---------------------------------------------------------------------------\u001b[0m",
            "\u001b[1;31mModuleNotFoundError\u001b[0m                       Traceback (most recent call last)",
            "\u001b[1;32m<ipython-input-4-cbbd57ee03b8>\u001b[0m in \u001b[0;36m<module>\u001b[1;34m\u001b[0m\n\u001b[0;32m      1\u001b[0m \u001b[1;31m# load data\u001b[0m\u001b[1;33m\u001b[0m\u001b[1;33m\u001b[0m\u001b[1;33m\u001b[0m\u001b[0m\n\u001b[1;32m----> 2\u001b[1;33m \u001b[1;32mfrom\u001b[0m \u001b[0mgoogle\u001b[0m\u001b[1;33m.\u001b[0m\u001b[0mcolab\u001b[0m \u001b[1;32mimport\u001b[0m \u001b[0mfiles\u001b[0m\u001b[1;33m\u001b[0m\u001b[1;33m\u001b[0m\u001b[0m\n\u001b[0m\u001b[0;32m      3\u001b[0m \u001b[0mfiles\u001b[0m\u001b[1;33m.\u001b[0m\u001b[0mupload\u001b[0m\u001b[1;33m(\u001b[0m\u001b[1;33m)\u001b[0m\u001b[1;33m\u001b[0m\u001b[1;33m\u001b[0m\u001b[0m\n",
            "\u001b[1;31mModuleNotFoundError\u001b[0m: No module named 'google.colab'"
          ]
        }
      ],
      "metadata": {
        "colab": {
          "resources": {
            "http://localhost:8080/nbextensions/google.colab/files.js": {
              "data": "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",
              "ok": true,
              "headers": [
                [
                  "content-type",
                  "application/javascript"
                ]
              ],
              "status": 200,
              "status_text": ""
            }
          },
          "base_uri": "https://localhost:8080/",
          "height": 72
        },
        "id": "uskQZtPGdjJd",
        "outputId": "8cd2fdb2-6324-45e3-d162-88fbaaba254c"
      }
    },
    {
      "cell_type": "code",
      "execution_count": null,
      "source": [
        "df = df[df]"
      ],
      "outputs": [],
      "metadata": {}
    },
    {
      "cell_type": "code",
      "execution_count": null,
      "source": [
        "# # load data\r\n",
        "# from google.colab import files\r\n",
        "# files.upload()"
      ],
      "outputs": [],
      "metadata": {
        "id": "T3ZR5s06b3f6"
      }
    },
    {
      "cell_type": "code",
      "execution_count": null,
      "source": [
        "# # store the data as a variable\r\n",
        "# needsPrices_df= pd.read_excel('needsPrices.xlsx')\r\n",
        "# # \r\n",
        "# withPrices_df= pd.read_excel('withPrices.xlsx')\r\n"
      ],
      "outputs": [],
      "metadata": {
        "id": "Ydqggo0hdngP"
      }
    },
    {
      "cell_type": "code",
      "execution_count": null,
      "source": [
        "#\r\n",
        "Prices_with_changes = pd.read_excel('withPricesAndChange.xlsx')"
      ],
      "outputs": [],
      "metadata": {
        "id": "jHiiOJHtc8oJ"
      }
    },
    {
      "cell_type": "code",
      "execution_count": null,
      "source": [
        "# peak at data\r\n",
        "Prices_with_changes.head(3)"
      ],
      "outputs": [
        {
          "output_type": "execute_result",
          "data": {
            "text/html": [
              "<div>\n",
              "<style scoped>\n",
              "    .dataframe tbody tr th:only-of-type {\n",
              "        vertical-align: middle;\n",
              "    }\n",
              "\n",
              "    .dataframe tbody tr th {\n",
              "        vertical-align: top;\n",
              "    }\n",
              "\n",
              "    .dataframe thead th {\n",
              "        text-align: right;\n",
              "    }\n",
              "</style>\n",
              "<table border=\"1\" class=\"dataframe\">\n",
              "  <thead>\n",
              "    <tr style=\"text-align: right;\">\n",
              "      <th></th>\n",
              "      <th>title</th>\n",
              "      <th>Symbol</th>\n",
              "      <th>Security</th>\n",
              "      <th>Year</th>\n",
              "      <th>Month</th>\n",
              "      <th>Day</th>\n",
              "      <th>Date</th>\n",
              "      <th>Key</th>\n",
              "      <th>Opening</th>\n",
              "      <th>Closing</th>\n",
              "      <th>StockChg</th>\n",
              "      <th>WeekNo</th>\n",
              "    </tr>\n",
              "  </thead>\n",
              "  <tbody>\n",
              "    <tr>\n",
              "      <th>0</th>\n",
              "      <td>Agilent to Buy Multiplicom for ‚Ç¨68M in Cash</td>\n",
              "      <td>A</td>\n",
              "      <td>Agilent Technologies</td>\n",
              "      <td>2016</td>\n",
              "      <td>12</td>\n",
              "      <td>20</td>\n",
              "      <td>2016-12-20</td>\n",
              "      <td>2016-12-20A</td>\n",
              "      <td>45.750000</td>\n",
              "      <td>46.209999</td>\n",
              "      <td>Positive</td>\n",
              "      <td>52</td>\n",
              "    </tr>\n",
              "    <tr>\n",
              "      <th>1</th>\n",
              "      <td>Pressure Biosciences CEO On Its Beaten Down St...</td>\n",
              "      <td>A</td>\n",
              "      <td>Agilent Technologies</td>\n",
              "      <td>2016</td>\n",
              "      <td>12</td>\n",
              "      <td>6</td>\n",
              "      <td>2016-12-06</td>\n",
              "      <td>2016-12-06A</td>\n",
              "      <td>44.580002</td>\n",
              "      <td>44.840000</td>\n",
              "      <td>Positive</td>\n",
              "      <td>50</td>\n",
              "    </tr>\n",
              "    <tr>\n",
              "      <th>2</th>\n",
              "      <td>The Market In 5 Minutes: DryShips, Trump And T...</td>\n",
              "      <td>A</td>\n",
              "      <td>Agilent Technologies</td>\n",
              "      <td>2016</td>\n",
              "      <td>11</td>\n",
              "      <td>16</td>\n",
              "      <td>2016-11-16</td>\n",
              "      <td>2016-11-16A</td>\n",
              "      <td>46.299999</td>\n",
              "      <td>46.180000</td>\n",
              "      <td>Negative</td>\n",
              "      <td>47</td>\n",
              "    </tr>\n",
              "  </tbody>\n",
              "</table>\n",
              "</div>"
            ],
            "text/plain": [
              "                                               title Symbol  ...  StockChg  WeekNo\n",
              "0      Agilent to Buy Multiplicom for ‚Ç¨68M in Cash      A  ...  Positive      52\n",
              "1  Pressure Biosciences CEO On Its Beaten Down St...      A  ...  Positive      50\n",
              "2  The Market In 5 Minutes: DryShips, Trump And T...      A  ...  Negative      47\n",
              "\n",
              "[3 rows x 12 columns]"
            ]
          },
          "metadata": {},
          "execution_count": 11
        }
      ],
      "metadata": {
        "colab": {
          "base_uri": "https://localhost:8080/",
          "height": 142
        },
        "id": "I7a8S_nHe4_r",
        "outputId": "8d6aab7d-19a7-4aed-9783-c4ea3bb8680e"
      }
    },
    {
      "cell_type": "code",
      "execution_count": null,
      "source": [
        "Prices_with_changes.head(10)"
      ],
      "outputs": [
        {
          "output_type": "execute_result",
          "data": {
            "text/html": [
              "<div>\n",
              "<style scoped>\n",
              "    .dataframe tbody tr th:only-of-type {\n",
              "        vertical-align: middle;\n",
              "    }\n",
              "\n",
              "    .dataframe tbody tr th {\n",
              "        vertical-align: top;\n",
              "    }\n",
              "\n",
              "    .dataframe thead th {\n",
              "        text-align: right;\n",
              "    }\n",
              "</style>\n",
              "<table border=\"1\" class=\"dataframe\">\n",
              "  <thead>\n",
              "    <tr style=\"text-align: right;\">\n",
              "      <th></th>\n",
              "      <th>title</th>\n",
              "      <th>Symbol</th>\n",
              "      <th>Security</th>\n",
              "      <th>Year</th>\n",
              "      <th>Month</th>\n",
              "      <th>Day</th>\n",
              "      <th>Date</th>\n",
              "      <th>Key</th>\n",
              "      <th>Opening</th>\n",
              "      <th>Closing</th>\n",
              "      <th>StockChg</th>\n",
              "      <th>WeekNo</th>\n",
              "    </tr>\n",
              "  </thead>\n",
              "  <tbody>\n",
              "    <tr>\n",
              "      <th>0</th>\n",
              "      <td>Agilent to Buy Multiplicom for ‚Ç¨68M in Cash</td>\n",
              "      <td>A</td>\n",
              "      <td>Agilent Technologies</td>\n",
              "      <td>2016</td>\n",
              "      <td>12</td>\n",
              "      <td>20</td>\n",
              "      <td>2016-12-20</td>\n",
              "      <td>2016-12-20A</td>\n",
              "      <td>45.750000</td>\n",
              "      <td>46.209999</td>\n",
              "      <td>Positive</td>\n",
              "      <td>52</td>\n",
              "    </tr>\n",
              "    <tr>\n",
              "      <th>1</th>\n",
              "      <td>Pressure Biosciences CEO On Its Beaten Down St...</td>\n",
              "      <td>A</td>\n",
              "      <td>Agilent Technologies</td>\n",
              "      <td>2016</td>\n",
              "      <td>12</td>\n",
              "      <td>6</td>\n",
              "      <td>2016-12-06</td>\n",
              "      <td>2016-12-06A</td>\n",
              "      <td>44.580002</td>\n",
              "      <td>44.840000</td>\n",
              "      <td>Positive</td>\n",
              "      <td>50</td>\n",
              "    </tr>\n",
              "    <tr>\n",
              "      <th>2</th>\n",
              "      <td>The Market In 5 Minutes: DryShips, Trump And T...</td>\n",
              "      <td>A</td>\n",
              "      <td>Agilent Technologies</td>\n",
              "      <td>2016</td>\n",
              "      <td>11</td>\n",
              "      <td>16</td>\n",
              "      <td>2016-11-16</td>\n",
              "      <td>2016-11-16A</td>\n",
              "      <td>46.299999</td>\n",
              "      <td>46.180000</td>\n",
              "      <td>Negative</td>\n",
              "      <td>47</td>\n",
              "    </tr>\n",
              "    <tr>\n",
              "      <th>3</th>\n",
              "      <td>A Peek Into The Markets: U.S. Stock Futures De...</td>\n",
              "      <td>A</td>\n",
              "      <td>Agilent Technologies</td>\n",
              "      <td>2016</td>\n",
              "      <td>11</td>\n",
              "      <td>16</td>\n",
              "      <td>2016-11-16</td>\n",
              "      <td>2016-11-16A</td>\n",
              "      <td>46.299999</td>\n",
              "      <td>46.180000</td>\n",
              "      <td>Negative</td>\n",
              "      <td>47</td>\n",
              "    </tr>\n",
              "    <tr>\n",
              "      <th>4</th>\n",
              "      <td>Keep an Eye on These 8 Stocks for November 16,...</td>\n",
              "      <td>A</td>\n",
              "      <td>Agilent Technologies</td>\n",
              "      <td>2016</td>\n",
              "      <td>11</td>\n",
              "      <td>16</td>\n",
              "      <td>2016-11-16</td>\n",
              "      <td>2016-11-16A</td>\n",
              "      <td>46.299999</td>\n",
              "      <td>46.180000</td>\n",
              "      <td>Negative</td>\n",
              "      <td>47</td>\n",
              "    </tr>\n",
              "    <tr>\n",
              "      <th>5</th>\n",
              "      <td>Agilent Technologies Sees FY17 Rev. $4.35B-$4....</td>\n",
              "      <td>A</td>\n",
              "      <td>Agilent Technologies</td>\n",
              "      <td>2016</td>\n",
              "      <td>11</td>\n",
              "      <td>15</td>\n",
              "      <td>2016-11-15</td>\n",
              "      <td>2016-11-15A</td>\n",
              "      <td>45.330002</td>\n",
              "      <td>45.400002</td>\n",
              "      <td>Positive</td>\n",
              "      <td>47</td>\n",
              "    </tr>\n",
              "    <tr>\n",
              "      <th>6</th>\n",
              "      <td>Agilent Technologies Reports Q4 EPS $0.59 vs. ...</td>\n",
              "      <td>A</td>\n",
              "      <td>Agilent Technologies</td>\n",
              "      <td>2016</td>\n",
              "      <td>11</td>\n",
              "      <td>15</td>\n",
              "      <td>2016-11-15</td>\n",
              "      <td>2016-11-15A</td>\n",
              "      <td>45.330002</td>\n",
              "      <td>45.400002</td>\n",
              "      <td>Positive</td>\n",
              "      <td>47</td>\n",
              "    </tr>\n",
              "    <tr>\n",
              "      <th>7</th>\n",
              "      <td>8 Stocks You Should Be Watching Today</td>\n",
              "      <td>A</td>\n",
              "      <td>Agilent Technologies</td>\n",
              "      <td>2016</td>\n",
              "      <td>11</td>\n",
              "      <td>15</td>\n",
              "      <td>2016-11-15</td>\n",
              "      <td>2016-11-15A</td>\n",
              "      <td>45.330002</td>\n",
              "      <td>45.400002</td>\n",
              "      <td>Positive</td>\n",
              "      <td>47</td>\n",
              "    </tr>\n",
              "    <tr>\n",
              "      <th>8</th>\n",
              "      <td>Earnings Scheduled For November 15, 2016</td>\n",
              "      <td>A</td>\n",
              "      <td>Agilent Technologies</td>\n",
              "      <td>2016</td>\n",
              "      <td>11</td>\n",
              "      <td>15</td>\n",
              "      <td>2016-11-15</td>\n",
              "      <td>2016-11-15A</td>\n",
              "      <td>45.330002</td>\n",
              "      <td>45.400002</td>\n",
              "      <td>Positive</td>\n",
              "      <td>47</td>\n",
              "    </tr>\n",
              "    <tr>\n",
              "      <th>9</th>\n",
              "      <td>Leerink Swann Assumes Agilent Technologies, In...</td>\n",
              "      <td>A</td>\n",
              "      <td>Agilent Technologies</td>\n",
              "      <td>2016</td>\n",
              "      <td>11</td>\n",
              "      <td>10</td>\n",
              "      <td>2016-11-10</td>\n",
              "      <td>2016-11-10A</td>\n",
              "      <td>46.599998</td>\n",
              "      <td>47.029999</td>\n",
              "      <td>Positive</td>\n",
              "      <td>46</td>\n",
              "    </tr>\n",
              "  </tbody>\n",
              "</table>\n",
              "</div>"
            ],
            "text/plain": [
              "                                               title Symbol  ...  StockChg  WeekNo\n",
              "0      Agilent to Buy Multiplicom for ‚Ç¨68M in Cash      A  ...  Positive      52\n",
              "1  Pressure Biosciences CEO On Its Beaten Down St...      A  ...  Positive      50\n",
              "2  The Market In 5 Minutes: DryShips, Trump And T...      A  ...  Negative      47\n",
              "3  A Peek Into The Markets: U.S. Stock Futures De...      A  ...  Negative      47\n",
              "4  Keep an Eye on These 8 Stocks for November 16,...      A  ...  Negative      47\n",
              "5  Agilent Technologies Sees FY17 Rev. $4.35B-$4....      A  ...  Positive      47\n",
              "6  Agilent Technologies Reports Q4 EPS $0.59 vs. ...      A  ...  Positive      47\n",
              "7              8 Stocks You Should Be Watching Today      A  ...  Positive      47\n",
              "8           Earnings Scheduled For November 15, 2016      A  ...  Positive      47\n",
              "9  Leerink Swann Assumes Agilent Technologies, In...      A  ...  Positive      46\n",
              "\n",
              "[10 rows x 12 columns]"
            ]
          },
          "metadata": {},
          "execution_count": 12
        }
      ],
      "metadata": {
        "colab": {
          "base_uri": "https://localhost:8080/",
          "height": 359
        },
        "id": "-djXbSwqe79N",
        "outputId": "421f8012-08c5-4d5a-f039-1a9d2bd3ec92"
      }
    },
    {
      "cell_type": "code",
      "execution_count": null,
      "source": [
        "A_ticker= Prices_with_changes"
      ],
      "outputs": [],
      "metadata": {
        "id": "fZpiEvcvvFO-"
      }
    },
    {
      "cell_type": "code",
      "execution_count": null,
      "source": [
        "# A_ticker= Prices_with_changes.loc[Prices_with_changes['Symbol'] == 'A']\r\n",
        "# A_ticker"
      ],
      "outputs": [],
      "metadata": {
        "id": "xvQjULg8S-Zi"
      }
    },
    {
      "cell_type": "code",
      "execution_count": null,
      "source": [
        "A_ticker= A_ticker.iloc[::-1]"
      ],
      "outputs": [],
      "metadata": {
        "id": "FWRvF2YRUDeB"
      }
    },
    {
      "cell_type": "code",
      "execution_count": null,
      "source": [
        "A_ticker= A_ticker.reset_index()\r\n",
        "A_ticker"
      ],
      "outputs": [
        {
          "output_type": "execute_result",
          "data": {
            "text/html": [
              "<div>\n",
              "<style scoped>\n",
              "    .dataframe tbody tr th:only-of-type {\n",
              "        vertical-align: middle;\n",
              "    }\n",
              "\n",
              "    .dataframe tbody tr th {\n",
              "        vertical-align: top;\n",
              "    }\n",
              "\n",
              "    .dataframe thead th {\n",
              "        text-align: right;\n",
              "    }\n",
              "</style>\n",
              "<table border=\"1\" class=\"dataframe\">\n",
              "  <thead>\n",
              "    <tr style=\"text-align: right;\">\n",
              "      <th></th>\n",
              "      <th>index</th>\n",
              "      <th>title</th>\n",
              "      <th>Symbol</th>\n",
              "      <th>Security</th>\n",
              "      <th>Year</th>\n",
              "      <th>Month</th>\n",
              "      <th>Day</th>\n",
              "      <th>Date</th>\n",
              "      <th>Key</th>\n",
              "      <th>Opening</th>\n",
              "      <th>Closing</th>\n",
              "      <th>StockChg</th>\n",
              "      <th>WeekNo</th>\n",
              "    </tr>\n",
              "  </thead>\n",
              "  <tbody>\n",
              "    <tr>\n",
              "      <th>0</th>\n",
              "      <td>176898</td>\n",
              "      <td>Seeing Quotes in the Range of $30-32 for Zoeti...</td>\n",
              "      <td>ZTS</td>\n",
              "      <td>Zoetis</td>\n",
              "      <td>2013</td>\n",
              "      <td>2</td>\n",
              "      <td>1</td>\n",
              "      <td>2013-02-01</td>\n",
              "      <td>2013-02-01ZTS</td>\n",
              "      <td>31.500000</td>\n",
              "      <td>31.010000</td>\n",
              "      <td>Negative</td>\n",
              "      <td>5</td>\n",
              "    </tr>\n",
              "    <tr>\n",
              "      <th>1</th>\n",
              "      <td>176897</td>\n",
              "      <td>Zoetis IPO to Open Shortly</td>\n",
              "      <td>ZTS</td>\n",
              "      <td>Zoetis</td>\n",
              "      <td>2013</td>\n",
              "      <td>2</td>\n",
              "      <td>1</td>\n",
              "      <td>2013-02-01</td>\n",
              "      <td>2013-02-01ZTS</td>\n",
              "      <td>31.500000</td>\n",
              "      <td>31.010000</td>\n",
              "      <td>Negative</td>\n",
              "      <td>5</td>\n",
              "    </tr>\n",
              "    <tr>\n",
              "      <th>2</th>\n",
              "      <td>176896</td>\n",
              "      <td>Zoetis IPO Opens at $31.50/Share, Priced at $26</td>\n",
              "      <td>ZTS</td>\n",
              "      <td>Zoetis</td>\n",
              "      <td>2013</td>\n",
              "      <td>2</td>\n",
              "      <td>1</td>\n",
              "      <td>2013-02-01</td>\n",
              "      <td>2013-02-01ZTS</td>\n",
              "      <td>31.500000</td>\n",
              "      <td>31.010000</td>\n",
              "      <td>Negative</td>\n",
              "      <td>5</td>\n",
              "    </tr>\n",
              "    <tr>\n",
              "      <th>3</th>\n",
              "      <td>176895</td>\n",
              "      <td>Pfizer Offers Statement on Zoetis IPO</td>\n",
              "      <td>ZTS</td>\n",
              "      <td>Zoetis</td>\n",
              "      <td>2013</td>\n",
              "      <td>2</td>\n",
              "      <td>1</td>\n",
              "      <td>2013-02-01</td>\n",
              "      <td>2013-02-01ZTS</td>\n",
              "      <td>31.500000</td>\n",
              "      <td>31.010000</td>\n",
              "      <td>Negative</td>\n",
              "      <td>5</td>\n",
              "    </tr>\n",
              "    <tr>\n",
              "      <th>4</th>\n",
              "      <td>176894</td>\n",
              "      <td>Mid-Morning Market Update: Unemployment Reache...</td>\n",
              "      <td>ZTS</td>\n",
              "      <td>Zoetis</td>\n",
              "      <td>2013</td>\n",
              "      <td>2</td>\n",
              "      <td>1</td>\n",
              "      <td>2013-02-01</td>\n",
              "      <td>2013-02-01ZTS</td>\n",
              "      <td>31.500000</td>\n",
              "      <td>31.010000</td>\n",
              "      <td>Negative</td>\n",
              "      <td>5</td>\n",
              "    </tr>\n",
              "    <tr>\n",
              "      <th>...</th>\n",
              "      <td>...</td>\n",
              "      <td>...</td>\n",
              "      <td>...</td>\n",
              "      <td>...</td>\n",
              "      <td>...</td>\n",
              "      <td>...</td>\n",
              "      <td>...</td>\n",
              "      <td>...</td>\n",
              "      <td>...</td>\n",
              "      <td>...</td>\n",
              "      <td>...</td>\n",
              "      <td>...</td>\n",
              "      <td>...</td>\n",
              "    </tr>\n",
              "    <tr>\n",
              "      <th>176894</th>\n",
              "      <td>4</td>\n",
              "      <td>Keep an Eye on These 8 Stocks for November 16,...</td>\n",
              "      <td>A</td>\n",
              "      <td>Agilent Technologies</td>\n",
              "      <td>2016</td>\n",
              "      <td>11</td>\n",
              "      <td>16</td>\n",
              "      <td>2016-11-16</td>\n",
              "      <td>2016-11-16A</td>\n",
              "      <td>46.299999</td>\n",
              "      <td>46.180000</td>\n",
              "      <td>Negative</td>\n",
              "      <td>47</td>\n",
              "    </tr>\n",
              "    <tr>\n",
              "      <th>176895</th>\n",
              "      <td>3</td>\n",
              "      <td>A Peek Into The Markets: U.S. Stock Futures De...</td>\n",
              "      <td>A</td>\n",
              "      <td>Agilent Technologies</td>\n",
              "      <td>2016</td>\n",
              "      <td>11</td>\n",
              "      <td>16</td>\n",
              "      <td>2016-11-16</td>\n",
              "      <td>2016-11-16A</td>\n",
              "      <td>46.299999</td>\n",
              "      <td>46.180000</td>\n",
              "      <td>Negative</td>\n",
              "      <td>47</td>\n",
              "    </tr>\n",
              "    <tr>\n",
              "      <th>176896</th>\n",
              "      <td>2</td>\n",
              "      <td>The Market In 5 Minutes: DryShips, Trump And T...</td>\n",
              "      <td>A</td>\n",
              "      <td>Agilent Technologies</td>\n",
              "      <td>2016</td>\n",
              "      <td>11</td>\n",
              "      <td>16</td>\n",
              "      <td>2016-11-16</td>\n",
              "      <td>2016-11-16A</td>\n",
              "      <td>46.299999</td>\n",
              "      <td>46.180000</td>\n",
              "      <td>Negative</td>\n",
              "      <td>47</td>\n",
              "    </tr>\n",
              "    <tr>\n",
              "      <th>176897</th>\n",
              "      <td>1</td>\n",
              "      <td>Pressure Biosciences CEO On Its Beaten Down St...</td>\n",
              "      <td>A</td>\n",
              "      <td>Agilent Technologies</td>\n",
              "      <td>2016</td>\n",
              "      <td>12</td>\n",
              "      <td>6</td>\n",
              "      <td>2016-12-06</td>\n",
              "      <td>2016-12-06A</td>\n",
              "      <td>44.580002</td>\n",
              "      <td>44.840000</td>\n",
              "      <td>Positive</td>\n",
              "      <td>50</td>\n",
              "    </tr>\n",
              "    <tr>\n",
              "      <th>176898</th>\n",
              "      <td>0</td>\n",
              "      <td>Agilent to Buy Multiplicom for ‚Ç¨68M in Cash</td>\n",
              "      <td>A</td>\n",
              "      <td>Agilent Technologies</td>\n",
              "      <td>2016</td>\n",
              "      <td>12</td>\n",
              "      <td>20</td>\n",
              "      <td>2016-12-20</td>\n",
              "      <td>2016-12-20A</td>\n",
              "      <td>45.750000</td>\n",
              "      <td>46.209999</td>\n",
              "      <td>Positive</td>\n",
              "      <td>52</td>\n",
              "    </tr>\n",
              "  </tbody>\n",
              "</table>\n",
              "<p>176899 rows × 13 columns</p>\n",
              "</div>"
            ],
            "text/plain": [
              "         index  ... WeekNo\n",
              "0       176898  ...      5\n",
              "1       176897  ...      5\n",
              "2       176896  ...      5\n",
              "3       176895  ...      5\n",
              "4       176894  ...      5\n",
              "...        ...  ...    ...\n",
              "176894       4  ...     47\n",
              "176895       3  ...     47\n",
              "176896       2  ...     47\n",
              "176897       1  ...     50\n",
              "176898       0  ...     52\n",
              "\n",
              "[176899 rows x 13 columns]"
            ]
          },
          "metadata": {},
          "execution_count": 16
        }
      ],
      "metadata": {
        "colab": {
          "base_uri": "https://localhost:8080/",
          "height": 419
        },
        "id": "rc3dzSPKUfGH",
        "outputId": "3aa32743-c1e0-4990-be5e-d1375ff0e1dc"
      }
    },
    {
      "cell_type": "code",
      "execution_count": null,
      "source": [],
      "outputs": [],
      "metadata": {
        "id": "NrPp0pUKdbqt"
      }
    },
    {
      "cell_type": "code",
      "execution_count": null,
      "source": [
        "A_ticker= A_ticker.round(4)\r\n",
        "A_ticker.loc[(A_ticker.StockChg == 'Positive'), 'StockChg'] = 1\r\n",
        "A_ticker.loc[(A_ticker.StockChg == 'Negative'), 'StockChg'] = 0\r\n",
        "A_ticker[\"StockChg\"] = pd.to_numeric(A_ticker[\"StockChg\"])\r\n",
        "A_ticker.dtypes"
      ],
      "outputs": [
        {
          "output_type": "execute_result",
          "data": {
            "text/plain": [
              "index                int64\n",
              "title               object\n",
              "Symbol              object\n",
              "Security            object\n",
              "Year                 int64\n",
              "Month                int64\n",
              "Day                  int64\n",
              "Date        datetime64[ns]\n",
              "Key                 object\n",
              "Opening            float64\n",
              "Closing            float64\n",
              "StockChg             int64\n",
              "WeekNo               int64\n",
              "dtype: object"
            ]
          },
          "metadata": {},
          "execution_count": 21
        }
      ],
      "metadata": {
        "id": "0W8YZ4HZbZDs",
        "colab": {
          "base_uri": "https://localhost:8080/"
        },
        "outputId": "650620e6-7160-4627-9536-d9889e19d771"
      }
    },
    {
      "cell_type": "code",
      "execution_count": null,
      "source": [
        "A_ticker['title']= A_ticker['title'].astype(str)\r\n",
        "A_ticker.dtypes"
      ],
      "outputs": [
        {
          "output_type": "execute_result",
          "data": {
            "text/plain": [
              "index                int64\n",
              "title               object\n",
              "Symbol              object\n",
              "Security            object\n",
              "Year                 int64\n",
              "Month                int64\n",
              "Day                  int64\n",
              "Date        datetime64[ns]\n",
              "Key                 object\n",
              "Opening            float64\n",
              "Closing            float64\n",
              "StockChg             int64\n",
              "WeekNo               int64\n",
              "dtype: object"
            ]
          },
          "metadata": {},
          "execution_count": 23
        }
      ],
      "metadata": {
        "colab": {
          "base_uri": "https://localhost:8080/"
        },
        "id": "B5J21Rw8ySnv",
        "outputId": "cd7f5adf-9eb9-43ac-86aa-9e3b49e818ca"
      }
    },
    {
      "cell_type": "code",
      "execution_count": null,
      "source": [
        "# Create a function to get the subjectivity\r\n",
        "def getSubjectivity(text):\r\n",
        "  return TextBlob(text).sentiment.subjectivity"
      ],
      "outputs": [],
      "metadata": {
        "id": "GvT8TEn2Wgcc"
      }
    },
    {
      "cell_type": "code",
      "execution_count": null,
      "source": [
        "# Create a function to get the polarity\r\n",
        "def getPolarity(text):\r\n",
        "  return  TextBlob(text).sentiment.polarity"
      ],
      "outputs": [],
      "metadata": {
        "id": "3H7F2_JhWgqN"
      }
    },
    {
      "cell_type": "code",
      "execution_count": null,
      "source": [
        "# Create two new columns 'Subjectivity' & 'Polarity'\r\n",
        "A_ticker['Subjectivity'] =A_ticker['title'].apply(getSubjectivity)\r\n",
        "A_ticker['Polarity'] =A_ticker['title'].apply(getPolarity)"
      ],
      "outputs": [],
      "metadata": {
        "id": "cJLyFKzQWguI"
      }
    },
    {
      "cell_type": "code",
      "execution_count": null,
      "source": [
        "#Create a function to get the sentiment scores (using Sentiment Intensity Analyzer)\r\n",
        "def getSIA(text):\r\n",
        "  sia = SentimentIntensityAnalyzer()\r\n",
        "  sentiment = sia.polarity_scores(text)\r\n",
        "  return sentiment\r\n"
      ],
      "outputs": [],
      "metadata": {
        "id": "a5z19jIIWgxi"
      }
    },
    {
      "cell_type": "code",
      "execution_count": null,
      "source": [
        "# The compound score is a metric that calculates the sum of all the lexicon\r\n",
        "#  ratings which have been normalized between -1(most extreme negative)\r\n",
        "#  and +1 (most extreme positive)."
      ],
      "outputs": [],
      "metadata": {
        "id": "uvJxS-BsXM_q"
      }
    },
    {
      "cell_type": "code",
      "execution_count": null,
      "source": [
        "#Get the sentiment scores for each day\r\n",
        "compound = []\r\n",
        "neg = []\r\n",
        "neu = []\r\n",
        "pos = []\r\n",
        "SIA = 0\r\n",
        "for i in range(0, len(A_ticker['title'])):\r\n",
        "  SIA = getSIA(A_ticker['title'][i])\r\n",
        "  compound.append(SIA['compound'])\r\n",
        "  neg.append(SIA['neg'])\r\n",
        "  neu.append(SIA['neu'])\r\n",
        "  pos.append(SIA['pos'])"
      ],
      "outputs": [],
      "metadata": {
        "id": "r3KMAC8JW7OZ"
      }
    },
    {
      "cell_type": "code",
      "execution_count": null,
      "source": [
        "#Store the sentiment scores in the data frame\r\n",
        "A_ticker['Compound'] =compound\r\n",
        "A_ticker['Negative'] =neg\r\n",
        "A_ticker['Neutral'] =neu\r\n",
        "A_ticker['Positive'] = pos"
      ],
      "outputs": [],
      "metadata": {
        "id": "_4gNftVQW7RF"
      }
    },
    {
      "cell_type": "code",
      "execution_count": null,
      "source": [
        "A_ticker= A_ticker.round(4)\r\n",
        "A_ticker.loc[(A_ticker.StockChg == 'Positive'), 'StockChg'] = 1\r\n",
        "A_ticker.loc[(A_ticker.StockChg == 'Negative'), 'StockChg'] = 0\r\n",
        "A_ticker[\"StockChg\"] = pd.to_numeric(A_ticker[\"StockChg\"])\r\n",
        "A_ticker.dtypes"
      ],
      "outputs": [
        {
          "output_type": "execute_result",
          "data": {
            "text/plain": [
              "index                    int64\n",
              "title                   object\n",
              "Symbol                  object\n",
              "Security                object\n",
              "Year                     int64\n",
              "Month                    int64\n",
              "Day                      int64\n",
              "Date            datetime64[ns]\n",
              "Key                     object\n",
              "Opening                float64\n",
              "Closing                float64\n",
              "StockChg                 int64\n",
              "WeekNo                   int64\n",
              "Subjectivity           float64\n",
              "Polarity               float64\n",
              "Compound               float64\n",
              "Negative               float64\n",
              "Neutral                float64\n",
              "Positive               float64\n",
              "dtype: object"
            ]
          },
          "metadata": {},
          "execution_count": 29
        }
      ],
      "metadata": {
        "colab": {
          "base_uri": "https://localhost:8080/"
        },
        "id": "IoDxpzznW7Vr",
        "outputId": "c2a33acd-59c9-47b8-95df-a2a98aac4cf6"
      }
    },
    {
      "cell_type": "code",
      "execution_count": null,
      "source": [
        "A_ticker"
      ],
      "outputs": [
        {
          "output_type": "execute_result",
          "data": {
            "text/html": [
              "<div>\n",
              "<style scoped>\n",
              "    .dataframe tbody tr th:only-of-type {\n",
              "        vertical-align: middle;\n",
              "    }\n",
              "\n",
              "    .dataframe tbody tr th {\n",
              "        vertical-align: top;\n",
              "    }\n",
              "\n",
              "    .dataframe thead th {\n",
              "        text-align: right;\n",
              "    }\n",
              "</style>\n",
              "<table border=\"1\" class=\"dataframe\">\n",
              "  <thead>\n",
              "    <tr style=\"text-align: right;\">\n",
              "      <th></th>\n",
              "      <th>index</th>\n",
              "      <th>title</th>\n",
              "      <th>Symbol</th>\n",
              "      <th>Security</th>\n",
              "      <th>Year</th>\n",
              "      <th>Month</th>\n",
              "      <th>Day</th>\n",
              "      <th>Date</th>\n",
              "      <th>Key</th>\n",
              "      <th>Opening</th>\n",
              "      <th>Closing</th>\n",
              "      <th>StockChg</th>\n",
              "      <th>WeekNo</th>\n",
              "      <th>Subjectivity</th>\n",
              "      <th>Polarity</th>\n",
              "      <th>Compound</th>\n",
              "      <th>Negative</th>\n",
              "      <th>Neutral</th>\n",
              "      <th>Positive</th>\n",
              "    </tr>\n",
              "  </thead>\n",
              "  <tbody>\n",
              "    <tr>\n",
              "      <th>0</th>\n",
              "      <td>176898</td>\n",
              "      <td>Seeing Quotes in the Range of $30-32 for Zoeti...</td>\n",
              "      <td>ZTS</td>\n",
              "      <td>Zoetis</td>\n",
              "      <td>2013</td>\n",
              "      <td>2</td>\n",
              "      <td>1</td>\n",
              "      <td>2013-02-01</td>\n",
              "      <td>2013-02-01ZTS</td>\n",
              "      <td>31.50</td>\n",
              "      <td>31.01</td>\n",
              "      <td>0</td>\n",
              "      <td>5</td>\n",
              "      <td>0.0000</td>\n",
              "      <td>0.0000</td>\n",
              "      <td>0.0000</td>\n",
              "      <td>0.000</td>\n",
              "      <td>1.000</td>\n",
              "      <td>0.000</td>\n",
              "    </tr>\n",
              "    <tr>\n",
              "      <th>1</th>\n",
              "      <td>176897</td>\n",
              "      <td>Zoetis IPO to Open Shortly</td>\n",
              "      <td>ZTS</td>\n",
              "      <td>Zoetis</td>\n",
              "      <td>2013</td>\n",
              "      <td>2</td>\n",
              "      <td>1</td>\n",
              "      <td>2013-02-01</td>\n",
              "      <td>2013-02-01ZTS</td>\n",
              "      <td>31.50</td>\n",
              "      <td>31.01</td>\n",
              "      <td>0</td>\n",
              "      <td>5</td>\n",
              "      <td>0.4000</td>\n",
              "      <td>0.0000</td>\n",
              "      <td>0.0000</td>\n",
              "      <td>0.000</td>\n",
              "      <td>1.000</td>\n",
              "      <td>0.000</td>\n",
              "    </tr>\n",
              "    <tr>\n",
              "      <th>2</th>\n",
              "      <td>176896</td>\n",
              "      <td>Zoetis IPO Opens at $31.50/Share, Priced at $26</td>\n",
              "      <td>ZTS</td>\n",
              "      <td>Zoetis</td>\n",
              "      <td>2013</td>\n",
              "      <td>2</td>\n",
              "      <td>1</td>\n",
              "      <td>2013-02-01</td>\n",
              "      <td>2013-02-01ZTS</td>\n",
              "      <td>31.50</td>\n",
              "      <td>31.01</td>\n",
              "      <td>0</td>\n",
              "      <td>5</td>\n",
              "      <td>0.0000</td>\n",
              "      <td>0.0000</td>\n",
              "      <td>0.0000</td>\n",
              "      <td>0.000</td>\n",
              "      <td>1.000</td>\n",
              "      <td>0.000</td>\n",
              "    </tr>\n",
              "    <tr>\n",
              "      <th>3</th>\n",
              "      <td>176895</td>\n",
              "      <td>Pfizer Offers Statement on Zoetis IPO</td>\n",
              "      <td>ZTS</td>\n",
              "      <td>Zoetis</td>\n",
              "      <td>2013</td>\n",
              "      <td>2</td>\n",
              "      <td>1</td>\n",
              "      <td>2013-02-01</td>\n",
              "      <td>2013-02-01ZTS</td>\n",
              "      <td>31.50</td>\n",
              "      <td>31.01</td>\n",
              "      <td>0</td>\n",
              "      <td>5</td>\n",
              "      <td>0.0000</td>\n",
              "      <td>0.1000</td>\n",
              "      <td>0.0000</td>\n",
              "      <td>0.000</td>\n",
              "      <td>1.000</td>\n",
              "      <td>0.000</td>\n",
              "    </tr>\n",
              "    <tr>\n",
              "      <th>4</th>\n",
              "      <td>176894</td>\n",
              "      <td>Mid-Morning Market Update: Unemployment Reache...</td>\n",
              "      <td>ZTS</td>\n",
              "      <td>Zoetis</td>\n",
              "      <td>2013</td>\n",
              "      <td>2</td>\n",
              "      <td>1</td>\n",
              "      <td>2013-02-01</td>\n",
              "      <td>2013-02-01ZTS</td>\n",
              "      <td>31.50</td>\n",
              "      <td>31.01</td>\n",
              "      <td>0</td>\n",
              "      <td>5</td>\n",
              "      <td>0.9500</td>\n",
              "      <td>0.7500</td>\n",
              "      <td>0.2732</td>\n",
              "      <td>0.195</td>\n",
              "      <td>0.470</td>\n",
              "      <td>0.336</td>\n",
              "    </tr>\n",
              "    <tr>\n",
              "      <th>...</th>\n",
              "      <td>...</td>\n",
              "      <td>...</td>\n",
              "      <td>...</td>\n",
              "      <td>...</td>\n",
              "      <td>...</td>\n",
              "      <td>...</td>\n",
              "      <td>...</td>\n",
              "      <td>...</td>\n",
              "      <td>...</td>\n",
              "      <td>...</td>\n",
              "      <td>...</td>\n",
              "      <td>...</td>\n",
              "      <td>...</td>\n",
              "      <td>...</td>\n",
              "      <td>...</td>\n",
              "      <td>...</td>\n",
              "      <td>...</td>\n",
              "      <td>...</td>\n",
              "      <td>...</td>\n",
              "    </tr>\n",
              "    <tr>\n",
              "      <th>176894</th>\n",
              "      <td>4</td>\n",
              "      <td>Keep an Eye on These 8 Stocks for November 16,...</td>\n",
              "      <td>A</td>\n",
              "      <td>Agilent Technologies</td>\n",
              "      <td>2016</td>\n",
              "      <td>11</td>\n",
              "      <td>16</td>\n",
              "      <td>2016-11-16</td>\n",
              "      <td>2016-11-16A</td>\n",
              "      <td>46.30</td>\n",
              "      <td>46.18</td>\n",
              "      <td>0</td>\n",
              "      <td>47</td>\n",
              "      <td>0.0000</td>\n",
              "      <td>0.0000</td>\n",
              "      <td>0.0000</td>\n",
              "      <td>0.000</td>\n",
              "      <td>1.000</td>\n",
              "      <td>0.000</td>\n",
              "    </tr>\n",
              "    <tr>\n",
              "      <th>176895</th>\n",
              "      <td>3</td>\n",
              "      <td>A Peek Into The Markets: U.S. Stock Futures De...</td>\n",
              "      <td>A</td>\n",
              "      <td>Agilent Technologies</td>\n",
              "      <td>2016</td>\n",
              "      <td>11</td>\n",
              "      <td>16</td>\n",
              "      <td>2016-11-16</td>\n",
              "      <td>2016-11-16A</td>\n",
              "      <td>46.30</td>\n",
              "      <td>46.18</td>\n",
              "      <td>0</td>\n",
              "      <td>47</td>\n",
              "      <td>0.2000</td>\n",
              "      <td>0.2000</td>\n",
              "      <td>0.0000</td>\n",
              "      <td>0.000</td>\n",
              "      <td>1.000</td>\n",
              "      <td>0.000</td>\n",
              "    </tr>\n",
              "    <tr>\n",
              "      <th>176896</th>\n",
              "      <td>2</td>\n",
              "      <td>The Market In 5 Minutes: DryShips, Trump And T...</td>\n",
              "      <td>A</td>\n",
              "      <td>Agilent Technologies</td>\n",
              "      <td>2016</td>\n",
              "      <td>11</td>\n",
              "      <td>16</td>\n",
              "      <td>2016-11-16</td>\n",
              "      <td>2016-11-16A</td>\n",
              "      <td>46.30</td>\n",
              "      <td>46.18</td>\n",
              "      <td>0</td>\n",
              "      <td>47</td>\n",
              "      <td>0.0000</td>\n",
              "      <td>0.0000</td>\n",
              "      <td>0.0000</td>\n",
              "      <td>0.000</td>\n",
              "      <td>1.000</td>\n",
              "      <td>0.000</td>\n",
              "    </tr>\n",
              "    <tr>\n",
              "      <th>176897</th>\n",
              "      <td>1</td>\n",
              "      <td>Pressure Biosciences CEO On Its Beaten Down St...</td>\n",
              "      <td>A</td>\n",
              "      <td>Agilent Technologies</td>\n",
              "      <td>2016</td>\n",
              "      <td>12</td>\n",
              "      <td>6</td>\n",
              "      <td>2016-12-06</td>\n",
              "      <td>2016-12-06A</td>\n",
              "      <td>44.58</td>\n",
              "      <td>44.84</td>\n",
              "      <td>1</td>\n",
              "      <td>50</td>\n",
              "      <td>0.5963</td>\n",
              "      <td>0.2481</td>\n",
              "      <td>-0.4417</td>\n",
              "      <td>0.199</td>\n",
              "      <td>0.717</td>\n",
              "      <td>0.083</td>\n",
              "    </tr>\n",
              "    <tr>\n",
              "      <th>176898</th>\n",
              "      <td>0</td>\n",
              "      <td>Agilent to Buy Multiplicom for ‚Ç¨68M in Cash</td>\n",
              "      <td>A</td>\n",
              "      <td>Agilent Technologies</td>\n",
              "      <td>2016</td>\n",
              "      <td>12</td>\n",
              "      <td>20</td>\n",
              "      <td>2016-12-20</td>\n",
              "      <td>2016-12-20A</td>\n",
              "      <td>45.75</td>\n",
              "      <td>46.21</td>\n",
              "      <td>1</td>\n",
              "      <td>52</td>\n",
              "      <td>0.0000</td>\n",
              "      <td>0.0000</td>\n",
              "      <td>0.0000</td>\n",
              "      <td>0.000</td>\n",
              "      <td>1.000</td>\n",
              "      <td>0.000</td>\n",
              "    </tr>\n",
              "  </tbody>\n",
              "</table>\n",
              "<p>176899 rows × 19 columns</p>\n",
              "</div>"
            ],
            "text/plain": [
              "         index  ... Positive\n",
              "0       176898  ...    0.000\n",
              "1       176897  ...    0.000\n",
              "2       176896  ...    0.000\n",
              "3       176895  ...    0.000\n",
              "4       176894  ...    0.336\n",
              "...        ...  ...      ...\n",
              "176894       4  ...    0.000\n",
              "176895       3  ...    0.000\n",
              "176896       2  ...    0.000\n",
              "176897       1  ...    0.083\n",
              "176898       0  ...    0.000\n",
              "\n",
              "[176899 rows x 19 columns]"
            ]
          },
          "metadata": {},
          "execution_count": 30
        }
      ],
      "metadata": {
        "colab": {
          "base_uri": "https://localhost:8080/",
          "height": 419
        },
        "id": "daGXgNNCrRa5",
        "outputId": "97f2c15d-3406-4fae-e973-0c18389a56cc"
      }
    },
    {
      "cell_type": "code",
      "execution_count": null,
      "source": [
        "# ZZZ= A_ticker.groupby(['Year', 'WeekNo']).mean()\r\n",
        "# ZZZ= ZZZ.drop(columns='index')\r\n",
        "# ZZZ"
      ],
      "outputs": [],
      "metadata": {
        "id": "vxltuetdYMxZ"
      }
    },
    {
      "cell_type": "code",
      "execution_count": null,
      "source": [
        "#Create the feature data set\r\n",
        "X = A_ticker[['Opening', 'Closing', 'Subjectivity', 'Polarity', 'Compound', 'Negative', 'Neutral', 'Positive']]\r\n",
        "X = np.array(X)"
      ],
      "outputs": [],
      "metadata": {
        "id": "3qEAWvO_YM0c"
      }
    },
    {
      "cell_type": "code",
      "execution_count": null,
      "source": [
        "#Create the target data set\r\n",
        "y = np.array(A_ticker['StockChg'])"
      ],
      "outputs": [],
      "metadata": {
        "id": "1x6yzaJFYM3f"
      }
    },
    {
      "cell_type": "code",
      "execution_count": null,
      "source": [
        "#Split the data into 80% training and 20% testing data sets\r\n",
        "from sklearn.model_selection import train_test_split\r\n",
        "\r\n",
        "x_train, x_test, y_train, y_test = train_test_split(X, y, test_size=0.2, random_state = 0)"
      ],
      "outputs": [],
      "metadata": {
        "id": "Qx1_Ir8ys0P4"
      }
    },
    {
      "cell_type": "code",
      "execution_count": null,
      "source": [
        "from sklearn.discriminant_analysis import LinearDiscriminantAnalysis\r\n",
        "model = LinearDiscriminantAnalysis().fit(x_train, y_train)"
      ],
      "outputs": [],
      "metadata": {
        "id": "igYln9u5s0TK"
      }
    },
    {
      "cell_type": "code",
      "execution_count": null,
      "source": [
        "#Get the models predictions/classification\r\n",
        "predictions = model.predict(x_test)\r\n",
        "predictions"
      ],
      "outputs": [
        {
          "output_type": "execute_result",
          "data": {
            "text/plain": [
              "array([1, 1, 1, ..., 0, 0, 0])"
            ]
          },
          "metadata": {},
          "execution_count": 37
        }
      ],
      "metadata": {
        "colab": {
          "base_uri": "https://localhost:8080/"
        },
        "id": "qdSA87E8s0WO",
        "outputId": "fbc05dae-d1e6-40fa-e4af-1f07667abbcc"
      }
    },
    {
      "cell_type": "code",
      "execution_count": null,
      "source": [
        "#Show the models metrics\r\n",
        "from sklearn.metrics import classification_report\r\n",
        "print( classification_report(y_test, predictions) )"
      ],
      "outputs": [
        {
          "output_type": "stream",
          "name": "stdout",
          "text": [
            "              precision    recall  f1-score   support\n",
            "\n",
            "           0       0.99      0.78      0.87     17094\n",
            "           1       0.83      0.99      0.90     18286\n",
            "\n",
            "    accuracy                           0.89     35380\n",
            "   macro avg       0.91      0.88      0.89     35380\n",
            "weighted avg       0.90      0.89      0.89     35380\n",
            "\n"
          ]
        }
      ],
      "metadata": {
        "colab": {
          "base_uri": "https://localhost:8080/"
        },
        "id": "9EVUeG9MtbmB",
        "outputId": "44068a9a-f763-4059-c977-9f49118ce233"
      }
    }
  ]
}